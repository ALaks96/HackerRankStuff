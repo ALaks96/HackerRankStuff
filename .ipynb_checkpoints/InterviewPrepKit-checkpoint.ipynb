{
 "cells": [
  {
   "cell_type": "markdown",
   "metadata": {},
   "source": [
    "# HackerRank challenges"
   ]
  },
  {
   "cell_type": "code",
   "execution_count": 3,
   "metadata": {},
   "outputs": [],
   "source": [
    "import math\n",
    "import os\n",
    "import random\n",
    "import re\n",
    "import sys\n",
    "from collections import Counter"
   ]
  },
  {
   "cell_type": "markdown",
   "metadata": {},
   "source": [
    "## Warmup challenges"
   ]
  },
  {
   "cell_type": "markdown",
   "metadata": {},
   "source": [
    "#### 1. Sock Merchant (easy)"
   ]
  },
  {
   "cell_type": "markdown",
   "metadata": {},
   "source": [
    "John works at a clothing store. He has a large pile of socks that he must pair by color for sale. Given an array of integers representing the color of each sock, determine how many pairs of socks with matching colors there are.\n",
    "\n",
    "For example, there are  socks with colors . There is one pair of color  and one of color . There are three odd socks left, one of each color. The number of pairs is .\n",
    "\n",
    "**Function Description**\n",
    "\n",
    "Complete the sockMerchant function in the editor below. It must return an integer representing the number of matching pairs of socks that are available.\n",
    "\n",
    "**sockMerchant has the following parameter(s):**\n",
    "\n",
    "n: the number of socks in the pile\n",
    "\n",
    "ar: the colors of each sock"
   ]
  },
  {
   "cell_type": "code",
   "execution_count": 4,
   "metadata": {},
   "outputs": [],
   "source": [
    "def sockMerchant(n, ar):\n",
    "    socks, pairs = Counter(map(int,ar)), 0\n",
    "    for sock in socks: \n",
    "        pairs += socks[sock]//2\n",
    "    \n",
    "    print(pairs)"
   ]
  },
  {
   "cell_type": "markdown",
   "metadata": {},
   "source": [
    "#### 2. Counting Valleys"
   ]
  },
  {
   "cell_type": "markdown",
   "metadata": {},
   "source": [
    "Gary is an avid hiker. He tracks his hikes meticulously, paying close attention to small details like topography. During his last hike he took exactly  steps. For every step he took, he noted if it was an uphill, , or a downhill,  step. Gary's hikes start and end at sea level and each step up or down represents a  unit change in altitude. We define the following terms:\n",
    "\n",
    "A mountain is a sequence of consecutive steps above sea level, starting with a step up from sea level and ending with a step down to sea level.\n",
    "A valley is a sequence of consecutive steps below sea level, starting with a step down from sea level and ending with a step up to sea level.\n",
    "Given Gary's sequence of up and down steps during his last hike, find and print the number of valleys he walked through.\n",
    "\n",
    "For example, if Gary's path is , he first enters a valley  units deep. Then he climbs out an up onto a mountain  units high. Finally, he returns to sea level and ends his hike.\n",
    "\n",
    "**Function Description**\n",
    "\n",
    "Complete the countingValleys function in the editor below. It must return an integer that denotes the number of valleys Gary traversed.\n",
    "\n",
    "**countingValleys has the following parameter(s):**\n",
    "\n",
    "n: the number of steps Gary takes \n",
    "\n",
    "s: a string describing his path"
   ]
  },
  {
   "cell_type": "code",
   "execution_count": 5,
   "metadata": {},
   "outputs": [],
   "source": [
    "def countingValleys(n, s):\n",
    "    level = valleys = 0\n",
    "    for step in s:\n",
    "        level += 1 if step == \"U\" else -1\n",
    "        valleys += level == 0 and step == \"U\"\n",
    "    return valleys"
   ]
  },
  {
   "cell_type": "markdown",
   "metadata": {},
   "source": [
    "#### 3. Jumping on the clouds"
   ]
  },
  {
   "cell_type": "markdown",
   "metadata": {},
   "source": [
    "Emma is playing a new mobile game that starts with consecutively numbered clouds. Some of the clouds are thunderheads and others are cumulus. She can jump on any cumulus cloud having a number that is equal to the number of the current cloud plus  or . She must avoid the thunderheads. Determine the minimum number of jumps it will take Emma to jump from her starting postion to the last cloud. It is always possible to win the game.\n",
    "\n",
    "For each game, Emma will get an array of clouds numbered  if they are safe or  if they must be avoided. For example,  indexed from . The number on each cloud is its index in the list so she must avoid the clouds at indexes  and . She could follow the following two paths:  or . The first path takes  jumps while the second takes .\n",
    "\n",
    "**Function Description**\n",
    "\n",
    "Complete the jumpingOnClouds function in the editor below. It should return the minimum number of jumps required, as an integer.\n",
    "\n",
    "**jumpingOnClouds has the following parameter(s):**\n",
    "\n",
    "c: an array of binary integers"
   ]
  },
  {
   "cell_type": "code",
   "execution_count": 6,
   "metadata": {},
   "outputs": [],
   "source": [
    "def jumpingOnClouds(c):\n",
    "    i = count_jumps = 0\n",
    "    length = len(c)\n",
    "\n",
    "    while i < length - 1:\n",
    "        if i < length - 2 and c[i + 2] == 0:\n",
    "            i += 2\n",
    "        else:\n",
    "            i += 1\n",
    "        count_jumps += 1\n",
    "\n",
    "    return count_jumps"
   ]
  },
  {
   "cell_type": "markdown",
   "metadata": {},
   "source": [
    "#### 4. Repeated strings"
   ]
  },
  {
   "cell_type": "markdown",
   "metadata": {},
   "source": [
    "Lilah has a string, , of lowercase English letters that she repeated infinitely many times.\n",
    "\n",
    "Given an integer, , find and print the number of letter a's in the first  letters of Lilah's infinite string.\n",
    "\n",
    "For example, if the string  and , the substring we consider is , the first  characters of her infinite string. There are  occurrences of a in the substring.\n",
    "\n",
    "**Function Description**\n",
    "\n",
    "Complete the repeatedString function in the editor below. It should return an integer representing the number of occurrences of a in the prefix of length  in the infinitely repeating string.\n",
    "\n",
    "**repeatedString has the following parameter(s):**\n",
    "\n",
    "s: a string to repeat\n",
    "\n",
    "n: the number of characters to consider"
   ]
  },
  {
   "cell_type": "code",
   "execution_count": 2,
   "metadata": {},
   "outputs": [],
   "source": [
    "def repeatedString(s, n):\n",
    "    print(s.count(\"a\") * (n // len(s)) + s[:n % len(s)].count(\"a\"))"
   ]
  },
  {
   "cell_type": "markdown",
   "metadata": {},
   "source": [
    "## Arrays"
   ]
  },
  {
   "cell_type": "markdown",
   "metadata": {},
   "source": [
    "#### 1. 2D array - DS"
   ]
  },
  {
   "cell_type": "markdown",
   "metadata": {},
   "source": [
    "Given a  2D Array, :\n",
    "\n",
    "1 1 1 0 0 0\n",
    "\n",
    "0 1 0 0 0 0\n",
    "\n",
    "1 1 1 0 0 0\n",
    "\n",
    "0 0 0 0 0 0\n",
    "\n",
    "0 0 0 0 0 0\n",
    "\n",
    "0 0 0 0 0 0\n",
    "\n",
    "We define an hourglass in  to be a subset of values with indices falling in this pattern in 's graphical representation:\n",
    "\n",
    "a b c\n",
    "\n",
    "  d\n",
    "  \n",
    "e f g\n",
    "\n",
    "There are  hourglasses in , and an hourglass sum is the sum of an hourglass' values. Calculate the hourglass sum for every hourglass in , then print the maximum hourglass sum.\n",
    "\n",
    "For example, given the 2D array:\n",
    "\n",
    "-9 -9 -9  1 1 1 \n",
    "\n",
    " 0 -9  0  4 3 2\n",
    " \n",
    "-9 -9 -9  1 2 3\n",
    "\n",
    " 0  0  8  6 6 0\n",
    " \n",
    " 0  0  0 -2 0 0\n",
    " \n",
    " 0  0  1  2 4 0\n",
    " \n",
    "We calculate the following  hourglass values:\n",
    "\n",
    "-63, -34, -9, 12, \n",
    "-10, 0, 28, 23, \n",
    "-27, -11, -2, 10, \n",
    "9, 17, 25, 18\n",
    "\n",
    "Our highest hourglass value is  from the hourglass:\n",
    "\n",
    "0 4 3\n",
    "\n",
    "  1\n",
    "  \n",
    "8 6 6\n",
    "\n",
    "**Function Description**\n",
    "\n",
    "Complete the function hourglassSum in the editor below. It should return an integer, the maximum hourglass sum in the array.\n",
    "\n",
    "**hourglassSum has the following parameter(s):**\n",
    "\n",
    "arr: an array of integers"
   ]
  },
  {
   "cell_type": "code",
   "execution_count": null,
   "metadata": {},
   "outputs": [],
   "source": [
    "def hourglassSum(arr):\n",
    "    count = -64\n",
    "    row = 0\n",
    "    col = 0\n",
    "    while row < 4 :\n",
    "        temp = arr[row][col] + arr[row][col+1]+arr[row][col+2]+arr[row+1][col+1] + arr[row+2][col]+arr[row+2][col+1]+ arr[row+2][col+2]\n",
    "        if temp > count:\n",
    "            count = temp\n",
    "        col +=1\n",
    "        if col == 4:\n",
    "            col = 0\n",
    "            row +=1\n",
    "    return count"
   ]
  },
  {
   "cell_type": "markdown",
   "metadata": {},
   "source": [
    "#### 2. Left Rotation"
   ]
  },
  {
   "cell_type": "markdown",
   "metadata": {},
   "source": [
    "A left rotation operation on an array shifts each of the array's elements  unit to the left. For example, if  left rotations are performed on array , then the array would become .\n",
    "\n",
    "Given an array  of  integers and a number, , perform  left rotations on the array. Return the updated array to be printed as a single line of space-separated integers.\n",
    "\n",
    "**Function Description**\n",
    "\n",
    "Complete the function rotLeft in the editor below. It should return the resulting array of integers.\n",
    "\n",
    "**rotLeft has the following parameter(s):**\n",
    "\n",
    "An array of integers .\n",
    "An integer , the number of rotations."
   ]
  },
  {
   "cell_type": "code",
   "execution_count": null,
   "metadata": {},
   "outputs": [],
   "source": [
    "def rotLeft(a, k):\n",
    "    alist = list(a)\n",
    "    b = alist[k:]+alist[:k]\n",
    "    return b"
   ]
  },
  {
   "cell_type": "markdown",
   "metadata": {},
   "source": [
    "#### 3. New Year Chaos"
   ]
  },
  {
   "cell_type": "markdown",
   "metadata": {},
   "source": [
    "It's New Year's Day and everyone's in line for the Wonderland rollercoaster ride! There are a number of people queued up, and each person wears a sticker indicating their initial position in the queue. Initial positions increment by  from  at the front of the line to  at the back.\n",
    "\n",
    "Any person in the queue can bribe the person directly in front of them to swap positions. If two people swap positions, they still wear the same sticker denoting their original places in line. One person can bribe at most two others. For example, if  and  bribes , the queue will look like this: .\n",
    "\n",
    "Fascinated by this chaotic queue, you decide you must know the minimum number of bribes that took place to get the queue into its current state!\n",
    "\n",
    "**Function Description**\n",
    "\n",
    "Complete the function minimumBribes in the editor below. It must print an integer representing the minimum number of bribes necessary, or Too chaotic if the line configuration is not possible.\n",
    "\n",
    "**minimumBribes has the following parameter(s):**\n",
    "\n",
    "q: an array of integers"
   ]
  },
  {
   "cell_type": "code",
   "execution_count": null,
   "metadata": {},
   "outputs": [],
   "source": [
    "def minimumBribes(Q):\n",
    "    #\n",
    "    # initialize the number of moves\n",
    "    moves = 0 \n",
    "    #\n",
    "    # decrease Q by 1 to make index-matching more intuitive\n",
    "    # so that our values go from 0 to N-1, just like our\n",
    "    # indices.  (Not necessary but makes it easier to\n",
    "    # understand.)\n",
    "    Q = [P-1 for P in Q]\n",
    "    #\n",
    "    # Loop through each person (P) in the queue (Q)\n",
    "    for i,P in enumerate(Q):\n",
    "        # i is the current position of P, while P is the\n",
    "        # original position of P.\n",
    "        #\n",
    "        # First check if any P is more than two ahead of \n",
    "        # its original position\n",
    "        if P - i > 2:\n",
    "            print(\"Too chaotic\")\n",
    "            return\n",
    "        #\n",
    "        # From here on out, we don't care if P has moved\n",
    "        # forwards, it is better to count how many times\n",
    "        # P has RECEIVED a bribe, by looking at who is\n",
    "        # ahead of P.  P's original position is the value\n",
    "        # of P.\n",
    "        # Anyone who bribed P cannot get to higher than\n",
    "        # one position in front if P's original position,\n",
    "        # so we need to look from one position in front\n",
    "        # of P's original position to one in front of P's\n",
    "        # current position, and see how many of those \n",
    "        # positions in Q contain a number large than P.\n",
    "        # In other words we will look from P-1 to i-1,\n",
    "        # which in Python is range(P-1,i-1+1), or simply\n",
    "        # range(P-1,i).  To make sure we don't try an\n",
    "        # index less than zero, replace P-1 with\n",
    "        # max(P-1,0)\n",
    "        for j in range(max(P-1,0),i):\n",
    "            if Q[j] > P:\n",
    "                moves += 1\n",
    "    print(moves)"
   ]
  },
  {
   "cell_type": "markdown",
   "metadata": {},
   "source": [
    "#### 4. Minimum swaps 2"
   ]
  },
  {
   "cell_type": "markdown",
   "metadata": {},
   "source": [
    "You are given an unordered array consisting of consecutive integers  [1, 2, 3, ..., n] without any duplicates. You are allowed to swap any two elements. You need to find the minimum number of swaps required to sort the array in ascending order.\n",
    "\n",
    "For example, given the array  we perform the following steps:\n",
    "\n",
    "i   arr                         swap (indices)\n",
    "\n",
    "0   [7, 1, 3, 2, 4, 5, 6]   swap (0,3)\n",
    "\n",
    "1   [2, 1, 3, 7, 4, 5, 6]   swap (0,1)\n",
    "\n",
    "2   [1, 2, 3, 7, 4, 5, 6]   swap (3,4)\n",
    "\n",
    "3   [1, 2, 3, 4, 7, 5, 6]   swap (4,5)\n",
    "\n",
    "4   [1, 2, 3, 4, 5, 7, 6]   swap (5,6)\n",
    "\n",
    "5   [1, 2, 3, 4, 5, 6, 7]\n",
    "\n",
    "It took  swaps to sort the array.\n",
    "\n",
    "**Function Description**\n",
    "\n",
    "Complete the function minimumSwaps in the editor below. It must return an integer representing the minimum number of swaps to sort the array.\n",
    "\n",
    "**minimumSwaps has the following parameter(s):**\n",
    "\n",
    "arr: an unordered array of integers"
   ]
  },
  {
   "cell_type": "code",
   "execution_count": null,
   "metadata": {},
   "outputs": [],
   "source": [
    "def minimumSwaps(arr):\n",
    "    res = 0\n",
    "    arr = [x-1 for x in arr]\n",
    "    value_idx = {x:i for i, x in enumerate(arr)}\n",
    "    for i, x in enumerate(arr):\n",
    "        if i != x:\n",
    "            to_swap_idx = value_idx[i]\n",
    "            arr[i], arr[to_swap_idx] = i, x\n",
    "            value_idx[i] = i\n",
    "            value_idx[x] = to_swap_idx\n",
    "            res += 1\n",
    "    print(res)\n",
    "    return res"
   ]
  },
  {
   "cell_type": "markdown",
   "metadata": {},
   "source": [
    "#### 5. Array Manipulation"
   ]
  },
  {
   "cell_type": "markdown",
   "metadata": {},
   "source": [
    "Starting with a 1-indexed array of zeros and a list of operations, for each operation add a value to each of the array element between two given indices, inclusive. Once all operations have been performed, return the maximum value in your array.\n",
    "\n",
    "For example, the length of your array of zeros . Your list of queries is as follows:\n",
    "\n",
    "    a b k\n",
    "    \n",
    "    1 5 3\n",
    "    \n",
    "    4 8 7\n",
    "    \n",
    "    6 9 1\n",
    "    \n",
    "Add the values of  between the indices  and  inclusive:\n",
    "\n",
    "index->\t 1 2 3  4  5 6 7 8 9 10\n",
    "\n",
    "\t[0,0,0, 0, 0,0,0,0,0, 0]\n",
    "    \n",
    "\t[3,3,3, 3, 3,0,0,0,0, 0]\n",
    "    \n",
    "\t[3,3,3,10,10,7,7,7,0, 0]\n",
    "    \n",
    "\t[3,3,3,10,10,8,8,8,1, 0]\n",
    "    \n",
    "The largest value is  after all operations are performed.\n",
    "\n",
    "**Function Description**\n",
    "\n",
    "Complete the function arrayManipulation in the editor below. It must return an integer, the maximum value in the resulting array.\n",
    "\n",
    "**arrayManipulation has the following parameters:**\n",
    "\n",
    "n - the number of elements in your array\n",
    "\n",
    "queries - a two dimensional array of queries where each queries[i] contains three integers, a, b, and k."
   ]
  },
  {
   "cell_type": "code",
   "execution_count": 1,
   "metadata": {},
   "outputs": [],
   "source": [
    "def arrayManipulation(n, queries):\n",
    "    array = [0] * (n + 1)\n",
    "    \n",
    "    for query in queries: \n",
    "        a = query[0] - 1\n",
    "        b = query[1]\n",
    "        k = query[2]\n",
    "        array[a] += k\n",
    "        array[b] -= k\n",
    "        \n",
    "    max_value = 0\n",
    "    running_count = 0\n",
    "    for i in array:\n",
    "        running_count += i\n",
    "        if running_count > max_value:\n",
    "            max_value = running_count\n",
    "            \n",
    "    return max_value"
   ]
  },
  {
   "cell_type": "markdown",
   "metadata": {},
   "source": [
    "## Dictionnaries and hashmaps"
   ]
  },
  {
   "cell_type": "markdown",
   "metadata": {},
   "source": [
    "#### 1. Ransom note"
   ]
  },
  {
   "cell_type": "markdown",
   "metadata": {},
   "source": [
    "Harold is a kidnapper who wrote a ransom note, but now he is worried it will be traced back to him through his handwriting. He found a magazine and wants to know if he can cut out whole words from it and use them to create an untraceable replica of his ransom note. The words in his note are case-sensitive and he must use only whole words available in the magazine. He cannot use substrings or concatenation to create the words he needs.\n",
    "\n",
    "Given the words in the magazine and the words in the ransom note, print Yes if he can replicate his ransom note exactly using whole words from the magazine; otherwise, print No.\n",
    "\n",
    "For example, the note is \"Attack at dawn\". The magazine contains only \"attack at dawn\". The magazine has all the right words, but there's a case mismatch. The answer is .\n",
    "\n",
    "**Function Description**\n",
    "\n",
    "Complete the checkMagazine function in the editor below. It must print  if the note can be formed using the magazine, or .\n",
    "\n",
    "**checkMagazine has the following parameters:**\n",
    "\n",
    "magazine: an array of strings, each a word in the magazine\n",
    "\n",
    "note: an array of strings, each a word in the ransom note"
   ]
  },
  {
   "cell_type": "code",
   "execution_count": 3,
   "metadata": {},
   "outputs": [],
   "source": [
    "def ransom_note(magazine, rasom):\n",
    "    return (Counter(rasom) - Counter(magazine)) == {}"
   ]
  },
  {
   "cell_type": "markdown",
   "metadata": {},
   "source": [
    "#### 2. Two Strings"
   ]
  },
  {
   "cell_type": "markdown",
   "metadata": {},
   "source": [
    "Given two strings, determine if they share a common substring. A substring may be as small as one character.\n",
    "\n",
    "For example, the words \"a\", \"and\", \"art\" share the common substring . The words \"be\" and \"cat\" do not share a substring.\n",
    "\n",
    "**Function Description**\n",
    "\n",
    "Complete the function twoStrings in the editor below. It should return a string, either YES or NO based on whether the strings share a common substring.\n",
    "\n",
    "**twoStrings has the following parameter(s):**\n",
    "\n",
    "s1, s2: two strings to analyze ."
   ]
  },
  {
   "cell_type": "code",
   "execution_count": 4,
   "metadata": {},
   "outputs": [],
   "source": [
    "def twoStrings(s1, s2):\n",
    "    return 'YES' if set(s1) & set(s2) else 'NO'"
   ]
  },
  {
   "cell_type": "markdown",
   "metadata": {},
   "source": [
    "#### 3. Sherlock and Anagrams"
   ]
  },
  {
   "cell_type": "markdown",
   "metadata": {},
   "source": [
    "Two strings are anagrams of each other if the letters of one string can be rearranged to form the other string. Given a string, find the number of pairs of substrings of the string that are anagrams of each other.\n",
    "\n",
    "For example , the list of all anagrammatic pairs is  at positions  respectively.\n",
    "\n",
    "**Function Description**\n",
    "\n",
    "Complete the function sherlockAndAnagrams in the editor below. It must return an integer that represents the number of anagrammatic pairs of substrings in .\n",
    "\n",
    "**sherlockAndAnagrams has the following parameter(s):**\n",
    "\n",
    "s: a string ."
   ]
  },
  {
   "cell_type": "code",
   "execution_count": null,
   "metadata": {},
   "outputs": [],
   "source": [
    "def sherlockAndAnagrams(s):\n",
    "    n = len(s) \n",
    "    mp = dict() \n",
    "      \n",
    "    # loop for length of substring \n",
    "    for i in range(n): \n",
    "        sb = '' \n",
    "        for j in range(i, n): \n",
    "            print(sb, \"and\", s[j])\n",
    "            sb = ''.join(sorted(sb + s[j])) \n",
    "            print(sb)\n",
    "            mp[sb] = mp.get(sb, 0) \n",
    "              \n",
    "            # increase count corresponding \n",
    "            # to this dict array \n",
    "            mp[sb] += 1\n",
    "    print(mp)\n",
    "    anas = 0\n",
    "      \n",
    "    # loop over all different dictionary  \n",
    "    # items and aggregate substring count \n",
    "    for k, v in mp.items(): \n",
    "        anas += (v*(v-1))//2\n",
    "    return anas"
   ]
  },
  {
   "cell_type": "markdown",
   "metadata": {},
   "source": [
    "#### 4. Count triplets"
   ]
  },
  {
   "cell_type": "markdown",
   "metadata": {},
   "source": [
    "You are given an array and you need to find number of tripets of indices  such that the elements at those indices are in geometric progression for a given common ratio  and .\n",
    "\n",
    "For example, . If , we have  and  at indices  and .\n",
    "\n",
    "**Function Description**\n",
    "\n",
    "Complete the countTriplets function in the editor below. It should return the number of triplets forming a geometric progression for a given  as an integer.\n",
    "\n",
    "**countTriplets has the following parameter(s):**\n",
    "\n",
    "arr: an array of integers\n",
    "\n",
    "r: an integer, the common ratio"
   ]
  },
  {
   "cell_type": "code",
   "execution_count": 5,
   "metadata": {},
   "outputs": [],
   "source": [
    "def is_geometric(arr, ratio):      \n",
    "        for i in range(1, len(arr)):\n",
    "            if arr[i]/float(arr[i-1]) != ratio: \n",
    "                return False\n",
    "        return True\n",
    "\n",
    "# Complete the countTriplets function below.\n",
    "def countTriplets(arr, r):\n",
    "    sub_arr = [comb for comb in combinations(arr, 3)]\n",
    "    c = 0\n",
    "    for sub in sub_arr:\n",
    "        if is_geometric(sub,r) == True:\n",
    "            c += 1\n",
    "        else:\n",
    "            pass\n",
    "    return c"
   ]
  },
  {
   "cell_type": "markdown",
   "metadata": {},
   "source": [
    "#### 5. Frequency queries"
   ]
  },
  {
   "cell_type": "markdown",
   "metadata": {},
   "source": [
    "You are given  queries. Each query is of the form two integers described below:\n",
    "\n",
    "-  : Insert x in your data structure.\n",
    "-  : Delete one occurence of y from your data structure, if present.\n",
    "-  : Check if any integer is present whose frequency is exactly . If yes, print 1 else 0.\n",
    "\n",
    "The queries are given in the form of a 2-D array  of size  where  contains the operation, and  contains the data element. For example, you are given array . The results of each operation are:\n",
    "\n",
    "Operation   Array   Output\n",
    "\n",
    "(1,1)       [1]\n",
    "\n",
    "(2,2)       [1]\n",
    "\n",
    "(3,2)                   0\n",
    "\n",
    "(1,1)       [1,1]\n",
    "\n",
    "(1,1)       [1,1,1]\n",
    "\n",
    "(2,1)       [1,1]\n",
    "\n",
    "(3,2)                   1\n",
    "\n",
    "Return an array with the output: .\n",
    "\n",
    "**Function Description**\n",
    "\n",
    "Complete the freqQuery function in the editor below. It must return an array of integers where each element is a  if there is at least one element value with the queried number of occurrences in the current array, or 0 if there is not.\n",
    "\n",
    "**freqQuery has the following parameter(s):**\n",
    "\n",
    "queries: a 2-d array of integers"
   ]
  },
  {
   "cell_type": "code",
   "execution_count": 6,
   "metadata": {},
   "outputs": [],
   "source": [
    "def freqQuery(queries):\n",
    "    array = []\n",
    "    for order in queries:\n",
    "        print(order)\n",
    "        if order[0] == 1:\n",
    "            array.append(order[1])\n",
    "            counter = Counter(array)\n",
    "        elif order[0] == 2:\n",
    "            try:\n",
    "                array.remove(order[1])\n",
    "                counter = Counter(array)\n",
    "            except:\n",
    "                pass\n",
    "        elif order[0] == 3:\n",
    "            for el in counter:\n",
    "                if counter[el] == order[1]:\n",
    "                    pres = True \n",
    "                    break\n",
    "                else:\n",
    "                    pres = None\n",
    "            if pres:\n",
    "                print(\"1\")\n",
    "            else:\n",
    "                print(\"0\")\n",
    "                \n",
    "        print(order,array,counter)"
   ]
  },
  {
   "cell_type": "markdown",
   "metadata": {},
   "source": [
    "## String Manipulation"
   ]
  },
  {
   "cell_type": "markdown",
   "metadata": {},
   "source": [
    "#### 1. Making Anagrams"
   ]
  },
  {
   "cell_type": "markdown",
   "metadata": {},
   "source": [
    "Alice is taking a cryptography class and finding anagrams to be very useful. We consider two strings to be anagrams of each other if the first string's letters can be rearranged to form the second string. In other words, both strings must contain the same exact letters in the same exact frequency For example, bacdc and dcbac are anagrams, but bacdc and dcbad are not.\n",
    "\n",
    "Alice decides on an encryption scheme involving two large strings where encryption is dependent on the minimum number of character deletions required to make the two strings anagrams. Can you help her find this number?\n",
    "\n",
    "Given two strings,  and , that may or may not be of the same length, determine the minimum number of character deletions required to make  and  anagrams. Any characters can be deleted from either of the strings.\n",
    "\n",
    "For example, if  and , we can delete  from string  and  from string  so that both remaining strings are  and  which are anagrams.\n",
    "\n",
    "**Function Description**\n",
    "\n",
    "Complete the makeAnagram function in the editor below. It must return an integer representing the minimum total characters that must be deleted to make the strings anagrams.\n",
    "\n",
    "**makeAnagram has the following parameter(s):**\n",
    "\n",
    "a: a string\n",
    "\n",
    "b: a string"
   ]
  },
  {
   "cell_type": "code",
   "execution_count": 7,
   "metadata": {},
   "outputs": [],
   "source": [
    "def makeAnagram(a, b):\n",
    "    ct_a = Counter(a)\n",
    "    ct_b = Counter(b)\n",
    "    ct_a.subtract(ct_b)\n",
    "    return sum(abs(i) for i in ct_a.values())"
   ]
  },
  {
   "cell_type": "markdown",
   "metadata": {},
   "source": [
    "#### 2. Alternating Characters"
   ]
  },
  {
   "cell_type": "markdown",
   "metadata": {},
   "source": [
    "You are given a string containing characters  and  only. Your task is to change it into a string such that there are no matching adjacent characters. To do this, you are allowed to delete zero or more characters in the string.\n",
    "\n",
    "Your task is to find the minimum number of required deletions.\n",
    "\n",
    "For example, given the string , remove an  at positions  and  to make  in  deletions.\n",
    "\n",
    "**Function Description**\n",
    "\n",
    "Complete the alternatingCharacters function in the editor below. It must return an integer representing the minimum number of deletions to make the alternating string.\n",
    "\n",
    "**alternatingCharacters has the following parameter(s):**\n",
    "\n",
    "s: a string"
   ]
  },
  {
   "cell_type": "code",
   "execution_count": 8,
   "metadata": {},
   "outputs": [],
   "source": [
    "def alternatingCharacters(s):\n",
    "    c = 0\n",
    "    for i in range(1,len(s)):\n",
    "        if s[i] == s[i-1]:\n",
    "            c += 1\n",
    "    return c"
   ]
  },
  {
   "cell_type": "markdown",
   "metadata": {},
   "source": [
    "#### 3. Sherlock and the Valid String"
   ]
  },
  {
   "cell_type": "markdown",
   "metadata": {},
   "source": [
    "Sherlock considers a string to be valid if all characters of the string appear the same number of times. It is also valid if he can remove just  character at  index in the string, and the remaining characters will occur the same number of times. Given a string , determine if it is valid. If so, return YES, otherwise return NO.\n",
    "\n",
    "For example, if , it is a valid string because frequencies are . So is  because we can remove one  and have  of each character in the remaining string. If  however, the string is not valid as we can only remove  occurrence of . That would leave character frequencies of .\n",
    "\n",
    "**Function Description**\n",
    "\n",
    "Complete the isValid function in the editor below. It should return either the string YES or the string NO.\n",
    "\n",
    "**isValid has the following parameter(s):**\n",
    "\n",
    "s: a string"
   ]
  },
  {
   "cell_type": "code",
   "execution_count": 9,
   "metadata": {},
   "outputs": [],
   "source": [
    "def isValid(s):\n",
    "    #Create a list containing just counts of each distinct element\n",
    "    freq = [s.count(letter) for letter in set(s) ]\n",
    "    #If all values the same, then return 'YES'\n",
    "    if max(freq)-min(freq) == 0:\n",
    "        return 'YES'\n",
    "    #If difference between highest count and lowest count is 1\n",
    "    #and there is only one letter with highest count, \n",
    "    #then return 'YES' (because we can subtract one of these \n",
    "    #letters and max=min , i.e. all counts are the same)\n",
    "    elif freq.count(max(freq)) == 1 and max(freq) - min(freq) == 1:\n",
    "        return 'YES'\n",
    "    #If the minimum count is 1\n",
    "    #then remove this letter, and check whether all the other\n",
    "    #counts are the same\n",
    "    elif freq.count(min(freq)) == 1:\n",
    "        freq.remove(min(freq))\n",
    "        if max(freq)-min(freq) == 0:\n",
    "            return 'YES'\n",
    "        else:\n",
    "            return 'NO'\n",
    "    else:\n",
    "        return 'NO'"
   ]
  },
  {
   "cell_type": "markdown",
   "metadata": {},
   "source": [
    "#### 4. Special String Again"
   ]
  },
  {
   "cell_type": "markdown",
   "metadata": {},
   "source": [
    "A string is said to be a special string if either of two conditions is met:\n",
    "\n",
    "All of the characters are the same, e.g. aaa.\n",
    "All characters except the middle one are the same, e.g. aadaa.\n",
    "A special substring is any substring of a string which meets one of those criteria. Given a string, determine how many special substrings can be formed from it.\n",
    "\n",
    "For example, given the string , we have the following special substrings: .\n",
    "\n",
    "**Function Description**\n",
    "\n",
    "Complete the substrCount function in the editor below. It should return an integer representing the number of special substrings that can be formed from the given string.\n",
    "\n",
    "**substrCount has the following parameter(s):**\n",
    "\n",
    "n: an integer, the length of string s\n",
    "\n",
    "s: a string"
   ]
  },
  {
   "cell_type": "code",
   "execution_count": 10,
   "metadata": {},
   "outputs": [],
   "source": [
    "def substrCount(n, s):\n",
    "\n",
    "    count = n\n",
    "\n",
    "    # tracks the last three sequences of unique characters\n",
    "    # seqx = length of the sequence\n",
    "    # seqx_c = character in that sequence\n",
    "    seq3, seq3_c = 0, \"\"\n",
    "    seq2, seq2_c = 0, \"\"\n",
    "    seq1, seq1_c = 1, s[0]\n",
    "\n",
    "    # note: because the slice starts at 1, i is one less than the index of char\n",
    "    for i, char in enumerate(s[1:]):\n",
    "        if char == s[i]:\n",
    "            count += seq1\n",
    "            seq1 += 1\n",
    "        else:\n",
    "            seq3, seq3_c = seq2, seq2_c\n",
    "            print(seq3, seq3_c)\n",
    "            seq2, seq2_c = seq1, seq1_c\n",
    "            print(seq2, seq2_c)\n",
    "            seq1, seq1_c = 1, char\n",
    "            print(seq1, seq1_c)\n",
    "\n",
    "        if seq2 == 1 and seq3 >= seq1 and seq3_c == seq1_c:\n",
    "            count += 1\n",
    "\n",
    "    return count"
   ]
  },
  {
   "cell_type": "markdown",
   "metadata": {},
   "source": [
    "#### 5. Common child"
   ]
  },
  {
   "cell_type": "markdown",
   "metadata": {},
   "source": [
    "A string is said to be a child of a another string if it can be formed by deleting 0 or more characters from the other string. Given two strings of equal length, what's the longest string that can be constructed such that it is a child of both?\n",
    "\n",
    "For example, ABCD and ABDC have two children with maximum length 3, ABC and ABD. They can be formed by eliminating either the D or C from both strings. Note that we will not consider ABCD as a common child because we can't rearrange characters and ABCD  ABDC.\n",
    "\n",
    "**Function Description**\n",
    "\n",
    "Complete the commonChild function in the editor below. It should return the longest string which is a common child of the input strings.\n",
    "\n",
    "**commonChild has the following parameter(s):**\n",
    "\n",
    "s1, s2: two equal length strings"
   ]
  },
  {
   "cell_type": "code",
   "execution_count": 1,
   "metadata": {},
   "outputs": [],
   "source": [
    "# To be solved"
   ]
  },
  {
   "cell_type": "markdown",
   "metadata": {},
   "source": [
    "## Sorting"
   ]
  },
  {
   "cell_type": "markdown",
   "metadata": {},
   "source": [
    "1. Bubble sort"
   ]
  },
  {
   "cell_type": "markdown",
   "metadata": {},
   "source": [
    "Consider the following version of Bubble Sort:\n",
    "\n",
    "for (int i = 0; i < n; i++) {    \n",
    "    for (int j = 0; j < n - 1; j++) {\n",
    "        // Swap adjacent elements if they are in decreasing order\n",
    "        if (a[j] > a[j + 1]) {\n",
    "            swap(a[j], a[j + 1]);\n",
    "        }\n",
    "    }\n",
    "}\n",
    "\n",
    "Given an array of integers, sort the array in ascending order using the Bubble Sort algorithm above. Once sorted, print the following three lines:\n",
    "\n",
    "Array is sorted in numSwaps swaps., where  is the number of swaps that took place.\n",
    "\n",
    "First Element: firstElement, where  is the first element in the sorted array.\n",
    "\n",
    "Last Element: lastElement, where  is the last element in the sorted array.\n",
    "\n",
    "Hint: To complete this challenge, you must add a variable that keeps a running tally of all swaps that occur during execution.\n",
    "\n",
    "For example, given a worst-case but small array to sort:  we go through the following steps:\n",
    "\n",
    "swap    a       \n",
    "\n",
    "0       [6,4,1]\n",
    "\n",
    "1       [4,6,1]\n",
    "\n",
    "2       [4,1,6]\n",
    "\n",
    "3       [1,4,6]\n",
    "\n",
    "It took  swaps to sort the array. Output would be\n",
    "\n",
    "Array is sorted in 3 swaps.  \n",
    "\n",
    "First Element: 1  \n",
    "\n",
    "Last Element: 6  \n",
    "\n",
    "Function Description\n",
    "\n",
    "Complete the function countSwaps in the editor below. It should print the three lines required, then return.\n",
    "\n",
    "**countSwaps has the following parameter(s):**\n",
    "\n",
    "a: an array of integers ."
   ]
  },
  {
   "cell_type": "code",
   "execution_count": 1,
   "metadata": {},
   "outputs": [],
   "source": [
    "def countSwaps(a):\n",
    "    issorted = False\n",
    "    swaps = 0\n",
    "\n",
    "    while not issorted:\n",
    "        issorted = True\n",
    "        for i in range(0, len(a) - 1):\n",
    "            if a[i] > a[i + 1]:\n",
    "                a[i], a[i + 1] = a[i + 1], a[i]\n",
    "                swaps += 1\n",
    "                issorted = False\n",
    "\n",
    "    print(\"Array is sorted in %d swaps.\" % swaps)\n",
    "    print(\"First Element: %d\" % a[0])\n",
    "    print(\"Last Element: %d\" % a[-1])"
   ]
  },
  {
   "cell_type": "markdown",
   "metadata": {},
   "source": [
    "#### 2. Mark and Toys"
   ]
  },
  {
   "cell_type": "markdown",
   "metadata": {},
   "source": [
    "Mark and Jane are very happy after having their first child. Their son loves toys, so Mark wants to buy some. There are a number of different toys lying in front of him, tagged with their prices. Mark has only a certain amount to spend, and he wants to maximize the number of toys he buys with this money.\n",
    "\n",
    "Given a list of prices and an amount to spend, what is the maximum number of toys Mark can buy? For example, if  and Mark has  to spend, he can buy items  for , or  for  units of currency. He would choose the first group of  items.\n",
    "\n",
    "**Function Description**\n",
    "\n",
    "Complete the function maximumToys in the editor below. It should return an integer representing the maximum number of toys Mark can purchase.\n",
    "\n",
    "**maximumToys has the following parameter(s):**\n",
    "\n",
    "prices: an array of integers representing toy prices\n",
    "\n",
    "k: an integer, Mark's budget"
   ]
  },
  {
   "cell_type": "code",
   "execution_count": null,
   "metadata": {},
   "outputs": [],
   "source": [
    "def maximumToys(prices, k):\n",
    "    prices.sort()\n",
    "    count = 0\n",
    "    for i in prices:\n",
    "        if (i <= k):\n",
    "            count += 1\n",
    "            k -= i\n",
    "        else:\n",
    "            break\n",
    "    return count"
   ]
  },
  {
   "cell_type": "markdown",
   "metadata": {},
   "source": [
    "#### 3. Comparator"
   ]
  },
  {
   "cell_type": "markdown",
   "metadata": {},
   "source": [
    "Comparators are used to compare two objects. In this challenge, you'll create a comparator and use it to sort an array. The Player class is provided in the editor below. It has two fields:\n",
    "\n",
    "Given an array of  Player objects, write a comparator that sorts them in order of decreasing score. If  or more players have the same score, sort those players alphabetically ascending by name. To do this, you must create a Checker class that implements the Comparator interface, then write an int compare(Player a, Player b) method implementing the Comparator.compare(T o1, T o2) method. In short, when sorting in ascending order, a comparator function returns  if ,  if , and  if .\n",
    "\n",
    "For example, given  Player objects with  values of , we want to sort the list as .\n",
    "\n",
    "**Function Description**\n",
    "\n",
    "Declare a Checker class that implements the comparator method as described. It should sort first descending by score, then ascending by name. The code stub reads the input, creates a list of Player objects, uses your method to sort the data, and prints it out properly."
   ]
  },
  {
   "cell_type": "code",
   "execution_count": 2,
   "metadata": {},
   "outputs": [],
   "source": [
    "class Player:\n",
    "    def __init__(self, name, score):\n",
    "        self.name = name\n",
    "        self.score = score\n",
    "    def __repr__(self):\n",
    "        pass\n",
    "    def comparator(a, b):\n",
    "        val = b.score - a.score\n",
    "        if val == 0:\n",
    "            return -1 if a.name < b.name else 1\n",
    "        return val"
   ]
  },
  {
   "cell_type": "markdown",
   "metadata": {},
   "source": [
    "#### 4. Fraudulent Activity Notifications"
   ]
  },
  {
   "cell_type": "markdown",
   "metadata": {},
   "source": [
    "HackerLand National Bank has a simple policy for warning clients about possible fraudulent account activity. If the amount spent by a client on a particular day is greater than or equal to  the client's median spending for a trailing number of days, they send the client a notification about potential fraud. The bank doesn't send the client any notifications until they have at least that trailing number of prior days' transaction data.\n",
    "\n",
    "Given the number of trailing days  and a client's total daily expenditures for a period of  days, find and print the number of times the client will receive a notification over all  days.\n",
    "\n",
    "For example,  and . On the first three days, they just collect spending data. At day , we have trailing expenditures of . The median is  and the day's expenditure is . Because , there will be a notice. The next day, our trailing expenditures are  and the expenditures are . This is less than  so no notice will be sent. Over the period, there was one notice sent.\n",
    "\n",
    "Note: The median of a list of numbers can be found by arranging all the numbers from smallest to greatest. If there is an odd number of numbers, the middle one is picked. If there is an even number of numbers, median is then defined to be the average of the two middle values. (Wikipedia)\n",
    "\n",
    "**Function Description**\n",
    "\n",
    "Complete the function activityNotifications in the editor below. It must return an integer representing the number of client notifications.\n",
    "\n",
    "**activityNotifications has the following parameter(s):**\n",
    "\n",
    "expenditure: an array of integers representing daily expenditures\n",
    "\n",
    "d: an integer, the lookback days for median spending"
   ]
  },
  {
   "cell_type": "code",
   "execution_count": null,
   "metadata": {},
   "outputs": [],
   "source": [
    "from statistics import median\n",
    "import bisect\n",
    "\n",
    "\n",
    "def pop_then_insort(arr, x, y):\n",
    "    # Use bisect_left because item already exists in list, otherwise _right returns index+1\n",
    "    idx = bisect.bisect_left(arr, x)\n",
    "    # Remove existing item, pop should be faster than remove here\n",
    "    arr.pop(idx)\n",
    "    # Insort = insort_right, place item into sorted position  ---> much faster than sorting array yourself\n",
    "    bisect.insort_right(arr, y)\n",
    "    return arr\n",
    "\n",
    "def manual_median(a):\n",
    "    # Using built-in medians would sort the array themselves, that's too slow for us\n",
    "    num_items = len(a)\n",
    "    if num_items % 2 == 0:\n",
    "        m = (a[num_items//2] + a[(num_items//2)-1])/2\n",
    "    else:\n",
    "        # You don't need to do -1 but I left it as a lesson\n",
    "        m = a[(num_items-1)//2]\n",
    "    return m, a\n",
    "\n",
    "def activityNotifications(expenditure, d):\n",
    "    notifs = 0\n",
    "    arr = []\n",
    "\n",
    "    for i in range(d, len(expenditure)):\n",
    "        if not arr:\n",
    "            # Array from trailing to one before current, remember slice ends before i here\n",
    "            arr = expenditure[i-d:i]\n",
    "            # Must be initially sorted once\n",
    "            arr.sort()\n",
    "        # Track trailing and head values as these are the only ones changing per iteration technically\n",
    "        old_val = expenditure[i - d]\n",
    "        new_val = expenditure[i]\n",
    "        # We don't need to do the process if old_val == new_val but there was a bug with implementing an \"if !=\"\n",
    "        median_val, arr = manual_median(arr)\n",
    "        arr = pop_then_insort(arr, old_val, new_val)\n",
    "        if new_val >= 2 * median_val:\n",
    "            notifs += 1\n",
    "    return notifs"
   ]
  },
  {
   "cell_type": "markdown",
   "metadata": {},
   "source": [
    "#### 5. Counting Inversion"
   ]
  },
  {
   "cell_type": "markdown",
   "metadata": {},
   "source": [
    "In an array, , the elements at indices  and  (where ) form an inversion if . In other words, inverted elements  and  are considered to be \"out of order\". To correct an inversion, we can swap adjacent elements.\n",
    "\n",
    "For example, consider the dataset . It has two inversions:  and . To sort the array, we must perform the following two swaps to correct the inversions:\n",
    "\n",
    "Given  datasets, print the number of inversions that must be swapped to sort each dataset on a new line.\n",
    "\n",
    "**Function Description**\n",
    "\n",
    "Complete the function countInversions in the editor below. It must return an integer representing the number of inversions required to sort the array.\n",
    "\n",
    "**countInversions has the following parameter(s):**\n",
    "\n",
    "arr: an array of integers to sort ."
   ]
  },
  {
   "cell_type": "code",
   "execution_count": 3,
   "metadata": {},
   "outputs": [],
   "source": [
    "#To be solved"
   ]
  },
  {
   "cell_type": "markdown",
   "metadata": {},
   "source": [
    "## Greedy Algorithms"
   ]
  },
  {
   "cell_type": "markdown",
   "metadata": {},
   "source": [
    "#### 1. Minimum absolute difference"
   ]
  },
  {
   "cell_type": "markdown",
   "metadata": {},
   "source": [
    "Consider an array of integers, . We define the absolute difference between two elements,  and  (where ), to be the absolute value of .\n",
    "\n",
    "Given an array of integers, find and print the minimum absolute difference between any two elements in the array. For example, given the array  we can create  pairs of numbers:  and . The absolute differences for these pairs are ,  and . The minimum absolute difference is .\n",
    "\n",
    "**Function Description**\n",
    "\n",
    "Complete the minimumAbsoluteDifference function in the editor below. It should return an integer that represents the minimum absolute difference between any pair of elements.\n",
    "\n",
    "**minimumAbsoluteDifference has the following parameter(s):**\n",
    "\n",
    "n: an integer that represents the length of arr\n",
    "\n",
    "arr: an array of integers"
   ]
  },
  {
   "cell_type": "code",
   "execution_count": 1,
   "metadata": {},
   "outputs": [],
   "source": [
    "def minimumAbsoluteDifference(arr):\n",
    "    arr = sorted(arr)\n",
    "    temp = 10000000000000000000000\n",
    "    for i in range(1,len(arr)):\n",
    "        local_diff = abs(arr[i-1] - arr[i])\n",
    "        if local_diff < temp:\n",
    "            temp = local_diff\n",
    "\n",
    "    return temp"
   ]
  },
  {
   "cell_type": "markdown",
   "metadata": {},
   "source": [
    "#### 2. Luck Balance"
   ]
  },
  {
   "cell_type": "markdown",
   "metadata": {},
   "source": [
    "Lena is preparing for an important coding competition that is preceded by a number of sequential preliminary contests. Initially, her luck balance is 0. She believes in \"saving luck\", and wants to check her theory. Each contest is described by two integers,  and :\n",
    "\n",
    " is the amount of luck associated with a contest. If Lena wins the contest, her luck balance will decrease by ; if she loses it, her luck balance will increase by .\n",
    " denotes the contest's importance rating. It's equal to  if the contest is important, and it's equal to  if it's unimportant.\n",
    "If Lena loses no more than  important contests, what is the maximum amount of luck she can have after competing in all the preliminary contests? This value may be negative.\n",
    "\n",
    "For example,  and:\n",
    "\n",
    "Contest\t\tL[i]\tT[i]\n",
    "\n",
    "1\t\t5\t1\n",
    "\n",
    "2\t\t1\t1\n",
    "\n",
    "3\t\t4\t0\n",
    "\n",
    "If Lena loses all of the contests, her will be . Since she is allowed to lose  important contests, and there are only  important contests. She can lose all three contests to maximize her luck at . If , she has to win at least  of the  important contests. She would choose to win the lowest value important contest worth . Her final luck will be .\n",
    "\n",
    "**Function Description**\n",
    "\n",
    "Complete the luckBalance function in the editor below. It should return an integer that represents the maximum luck balance achievable.\n",
    "\n",
    "**luckBalance has the following parameter(s):**\n",
    "\n",
    "k: the number of important contests Lena can lose\n",
    "\n",
    "contests: a 2D array of integers where each  contains two integers that represent the luck balance and importance of the  contest."
   ]
  },
  {
   "cell_type": "code",
   "execution_count": 41,
   "metadata": {},
   "outputs": [],
   "source": [
    "def luckBalance(k, contests):\n",
    "    luck = 0\n",
    "    arr_new = sorted(contests, key = lambda x: (-x[1],-x[0]))\n",
    "    for i in range(0,k):\n",
    "        luck += arr_new[i][0]\n",
    "    if len(arr_new) > k:\n",
    "        for j in range(k,len(arr_new)):\n",
    "            if arr_new[j][1] != 0:\n",
    "                luck -= arr_new[j][0]\n",
    "            else:\n",
    "                luck += arr_new[j][0]\n",
    "    return luck\n",
    "            "
   ]
  },
  {
   "cell_type": "markdown",
   "metadata": {},
   "source": [
    "#### 3. Greedy Florist"
   ]
  },
  {
   "cell_type": "markdown",
   "metadata": {},
   "source": [
    "A group of friends want to buy a bouquet of flowers. The florist wants to maximize his number of new customers and the money he makes. To do this, he decides he'll multiply the price of each flower by the number of that customer's previously purchased flowers plus . The first flower will be original price, , the next will be  and so on.\n",
    "\n",
    "Given the size of the group of friends, the number of flowers they want to purchase and the original prices of the flowers, determine the minimum cost to purchase all of the flowers.\n",
    "\n",
    "For example, if there are  friends that want to buy  flowers that cost  each will buy one of the flowers priced  at the original price. Having each purchased  flower, the first flower in the list, , will now cost . The total cost will be .\n",
    "\n",
    "**Function Description**\n",
    "\n",
    "Complete the getMinimumCost function in the editor below. It should return the minimum cost to purchase all of the flowers.\n",
    "\n",
    "**getMinimumCost has the following parameter(s):**\n",
    "\n",
    "c: an array of integers representing the original price of each flower\n",
    "\n",
    "k: an integer, the number of friends"
   ]
  },
  {
   "cell_type": "code",
   "execution_count": 78,
   "metadata": {},
   "outputs": [],
   "source": [
    "def getMinimumCost(k, c):\n",
    "    n = len(c)\n",
    "    c = sorted(c)\n",
    "    l = 1\n",
    "    index = k\n",
    "    if k == len(c):\n",
    "        return sum(c)\n",
    "    else:\n",
    "        temp = 0\n",
    "        temp += sum(c[(n-k):])\n",
    "        print(n-k,n,temp,\"\\n\")\n",
    "        for i in range(n-k-1,-1,-1):\n",
    "            print(i, c[i], c[i] * (1 + l))\n",
    "            temp += c[i] * (1 + l)\n",
    "            index -= 1\n",
    "            if index == 0:\n",
    "                l += 1\n",
    "                index = k\n",
    "        return temp"
   ]
  },
  {
   "cell_type": "markdown",
   "metadata": {},
   "source": [
    "#### 4. Max Min"
   ]
  },
  {
   "cell_type": "markdown",
   "metadata": {},
   "source": [
    "You will be given a list of integers, , and a single integer . You must create an array of length  from elements of  such that its unfairness is minimized. Call that array . Unfairness of an array is calculated as\n",
    "\n",
    "Where:\n",
    "- max denotes the largest integer in \n",
    "- min denotes the smallest integer in \n",
    "\n",
    "As an example, consider the array  with a  of . Pick any two elements, test .\n",
    "\n",
    "Testing for all pairs, the solution  provides the minimum unfairness.\n",
    "\n",
    "Note: Integers in  may not be unique.\n",
    "\n",
    "**Function Description**\n",
    "\n",
    "Complete the maxMin function in the editor below. It must return an integer that denotes the minimum possible value of unfairness.\n",
    "\n",
    "**maxMin has the following parameter(s):**\n",
    "\n",
    "k: an integer, the number of elements in the array to create\n",
    "arr: an array of integers ."
   ]
  },
  {
   "cell_type": "code",
   "execution_count": 92,
   "metadata": {},
   "outputs": [],
   "source": [
    "def maxMin(k, arr):\n",
    "    arr_n = sorted(arr)\n",
    "    temp = 10000000000000\n",
    "    n = len(arr_n)\n",
    "    for i in range(k,n):\n",
    "        slide = arr_n[(i-k):i]\n",
    "        balance = max(slide) - min(slide)\n",
    "        #print(slide, balance, temp)\n",
    "        if balance < temp:\n",
    "            temp = balance\n",
    "    return temp"
   ]
  },
  {
   "cell_type": "markdown",
   "metadata": {},
   "source": [
    "faster version : "
   ]
  },
  {
   "cell_type": "code",
   "execution_count": 110,
   "metadata": {},
   "outputs": [],
   "source": [
    "def maxMin(k, a):\n",
    "    a.sort()\n",
    "    return(min(a[i + k - 1] - a[i] for i in range(len(a) - k + 1)))"
   ]
  }
 ],
 "metadata": {
  "kernelspec": {
   "display_name": "Python 3",
   "language": "python",
   "name": "python3"
  },
  "language_info": {
   "codemirror_mode": {
    "name": "ipython",
    "version": 3
   },
   "file_extension": ".py",
   "mimetype": "text/x-python",
   "name": "python",
   "nbconvert_exporter": "python",
   "pygments_lexer": "ipython3",
   "version": "3.6.8"
  }
 },
 "nbformat": 4,
 "nbformat_minor": 2
}
