{
 "cells": [
  {
   "cell_type": "markdown",
   "metadata": {},
   "source": [
    "# HackerRank challenges"
   ]
  },
  {
   "cell_type": "code",
   "execution_count": 1,
   "metadata": {},
   "outputs": [],
   "source": [
    "import math\n",
    "import os\n",
    "import random\n",
    "import re\n",
    "import sys\n",
    "from collections import Counter"
   ]
  },
  {
   "cell_type": "markdown",
   "metadata": {},
   "source": [
    "## Warmup challenges"
   ]
  },
  {
   "cell_type": "markdown",
   "metadata": {},
   "source": [
    "#### 1. Sock Merchant (easy)"
   ]
  },
  {
   "cell_type": "markdown",
   "metadata": {},
   "source": [
    "John works at a clothing store. He has a large pile of socks that he must pair by color for sale. Given an array of integers representing the color of each sock, determine how many pairs of socks with matching colors there are.\n",
    "\n",
    "For example, there are  socks with colors . There is one pair of color  and one of color . There are three odd socks left, one of each color. The number of pairs is .\n",
    "\n",
    "**Function Description**\n",
    "\n",
    "Complete the sockMerchant function in the editor below. It must return an integer representing the number of matching pairs of socks that are available.\n",
    "\n",
    "**sockMerchant has the following parameter(s):**\n",
    "\n",
    "n: the number of socks in the pile\n",
    "\n",
    "ar: the colors of each sock"
   ]
  },
  {
   "cell_type": "code",
   "execution_count": 4,
   "metadata": {},
   "outputs": [],
   "source": [
    "def sockMerchant(n, ar):\n",
    "    socks, pairs = Counter(map(int,ar)), 0\n",
    "    for sock in socks: \n",
    "        pairs += socks[sock]//2\n",
    "    \n",
    "    print(pairs)"
   ]
  },
  {
   "cell_type": "markdown",
   "metadata": {},
   "source": [
    "#### 2. Counting Valleys"
   ]
  },
  {
   "cell_type": "markdown",
   "metadata": {},
   "source": [
    "Gary is an avid hiker. He tracks his hikes meticulously, paying close attention to small details like topography. During his last hike he took exactly  steps. For every step he took, he noted if it was an uphill, , or a downhill,  step. Gary's hikes start and end at sea level and each step up or down represents a  unit change in altitude. We define the following terms:\n",
    "\n",
    "A mountain is a sequence of consecutive steps above sea level, starting with a step up from sea level and ending with a step down to sea level.\n",
    "A valley is a sequence of consecutive steps below sea level, starting with a step down from sea level and ending with a step up to sea level.\n",
    "Given Gary's sequence of up and down steps during his last hike, find and print the number of valleys he walked through.\n",
    "\n",
    "For example, if Gary's path is , he first enters a valley  units deep. Then he climbs out an up onto a mountain  units high. Finally, he returns to sea level and ends his hike.\n",
    "\n",
    "**Function Description**\n",
    "\n",
    "Complete the countingValleys function in the editor below. It must return an integer that denotes the number of valleys Gary traversed.\n",
    "\n",
    "**countingValleys has the following parameter(s):**\n",
    "\n",
    "n: the number of steps Gary takes \n",
    "\n",
    "s: a string describing his path"
   ]
  },
  {
   "cell_type": "code",
   "execution_count": 5,
   "metadata": {},
   "outputs": [],
   "source": [
    "def countingValleys(n, s):\n",
    "    level = valleys = 0\n",
    "    for step in s:\n",
    "        level += 1 if step == \"U\" else -1\n",
    "        valleys += level == 0 and step == \"U\"\n",
    "    return valleys"
   ]
  },
  {
   "cell_type": "markdown",
   "metadata": {},
   "source": [
    "#### 3. Jumping on the clouds"
   ]
  },
  {
   "cell_type": "markdown",
   "metadata": {},
   "source": [
    "Emma is playing a new mobile game that starts with consecutively numbered clouds. Some of the clouds are thunderheads and others are cumulus. She can jump on any cumulus cloud having a number that is equal to the number of the current cloud plus  or . She must avoid the thunderheads. Determine the minimum number of jumps it will take Emma to jump from her starting postion to the last cloud. It is always possible to win the game.\n",
    "\n",
    "For each game, Emma will get an array of clouds numbered  if they are safe or  if they must be avoided. For example,  indexed from . The number on each cloud is its index in the list so she must avoid the clouds at indexes  and . She could follow the following two paths:  or . The first path takes  jumps while the second takes .\n",
    "\n",
    "**Function Description**\n",
    "\n",
    "Complete the jumpingOnClouds function in the editor below. It should return the minimum number of jumps required, as an integer.\n",
    "\n",
    "**jumpingOnClouds has the following parameter(s):**\n",
    "\n",
    "c: an array of binary integers"
   ]
  },
  {
   "cell_type": "code",
   "execution_count": 6,
   "metadata": {},
   "outputs": [],
   "source": [
    "def jumpingOnClouds(c):\n",
    "    i = count_jumps = 0\n",
    "    length = len(c)\n",
    "\n",
    "    while i < length - 1:\n",
    "        if i < length - 2 and c[i + 2] == 0:\n",
    "            i += 2\n",
    "        else:\n",
    "            i += 1\n",
    "        count_jumps += 1\n",
    "\n",
    "    return count_jumps"
   ]
  },
  {
   "cell_type": "markdown",
   "metadata": {},
   "source": [
    "#### 4. Repeated strings"
   ]
  },
  {
   "cell_type": "markdown",
   "metadata": {},
   "source": [
    "Lilah has a string, , of lowercase English letters that she repeated infinitely many times.\n",
    "\n",
    "Given an integer, , find and print the number of letter a's in the first  letters of Lilah's infinite string.\n",
    "\n",
    "For example, if the string  and , the substring we consider is , the first  characters of her infinite string. There are  occurrences of a in the substring.\n",
    "\n",
    "**Function Description**\n",
    "\n",
    "Complete the repeatedString function in the editor below. It should return an integer representing the number of occurrences of a in the prefix of length  in the infinitely repeating string.\n",
    "\n",
    "**repeatedString has the following parameter(s):**\n",
    "\n",
    "s: a string to repeat\n",
    "\n",
    "n: the number of characters to consider"
   ]
  },
  {
   "cell_type": "code",
   "execution_count": 7,
   "metadata": {},
   "outputs": [
    {
     "ename": "SyntaxError",
     "evalue": "unexpected EOF while parsing (<ipython-input-7-6229b13c6a91>, line 2)",
     "output_type": "error",
     "traceback": [
      "\u001b[0;36m  File \u001b[0;32m\"<ipython-input-7-6229b13c6a91>\"\u001b[0;36m, line \u001b[0;32m2\u001b[0m\n\u001b[0;31m    print(s.count(\"a\") * (n // len(s)) + s[:n % len(s)].count(\"a\")\u001b[0m\n\u001b[0m                                                                  ^\u001b[0m\n\u001b[0;31mSyntaxError\u001b[0m\u001b[0;31m:\u001b[0m unexpected EOF while parsing\n"
     ]
    }
   ],
   "source": [
    "def repeatedString(s, n):\n",
    "    print(s.count(\"a\") * (n // len(s)) + s[:n % len(s)].count(\"a\")"
   ]
  },
  {
   "cell_type": "markdown",
   "metadata": {},
   "source": [
    "## Arrays"
   ]
  },
  {
   "cell_type": "markdown",
   "metadata": {},
   "source": [
    "#### 1. 2D array - DS"
   ]
  },
  {
   "cell_type": "markdown",
   "metadata": {},
   "source": [
    "Given a  2D Array, :\n",
    "\n",
    "1 1 1 0 0 0\n",
    "\n",
    "0 1 0 0 0 0\n",
    "\n",
    "1 1 1 0 0 0\n",
    "\n",
    "0 0 0 0 0 0\n",
    "\n",
    "0 0 0 0 0 0\n",
    "\n",
    "0 0 0 0 0 0\n",
    "\n",
    "We define an hourglass in  to be a subset of values with indices falling in this pattern in 's graphical representation:\n",
    "\n",
    "a b c\n",
    "\n",
    "  d\n",
    "  \n",
    "e f g\n",
    "\n",
    "There are  hourglasses in , and an hourglass sum is the sum of an hourglass' values. Calculate the hourglass sum for every hourglass in , then print the maximum hourglass sum.\n",
    "\n",
    "For example, given the 2D array:\n",
    "\n",
    "-9 -9 -9  1 1 1 \n",
    "\n",
    " 0 -9  0  4 3 2\n",
    " \n",
    "-9 -9 -9  1 2 3\n",
    "\n",
    " 0  0  8  6 6 0\n",
    " \n",
    " 0  0  0 -2 0 0\n",
    " \n",
    " 0  0  1  2 4 0\n",
    " \n",
    "We calculate the following  hourglass values:\n",
    "\n",
    "-63, -34, -9, 12, \n",
    "-10, 0, 28, 23, \n",
    "-27, -11, -2, 10, \n",
    "9, 17, 25, 18\n",
    "\n",
    "Our highest hourglass value is  from the hourglass:\n",
    "\n",
    "0 4 3\n",
    "\n",
    "  1\n",
    "  \n",
    "8 6 6\n",
    "\n",
    "**Function Description**\n",
    "\n",
    "Complete the function hourglassSum in the editor below. It should return an integer, the maximum hourglass sum in the array.\n",
    "\n",
    "**hourglassSum has the following parameter(s):**\n",
    "\n",
    "arr: an array of integers"
   ]
  },
  {
   "cell_type": "code",
   "execution_count": null,
   "metadata": {},
   "outputs": [],
   "source": [
    "def hourglassSum(arr):\n",
    "    count = -64\n",
    "    row = 0\n",
    "    col = 0\n",
    "    while row < 4 :\n",
    "        temp = arr[row][col] + arr[row][col+1]+arr[row][col+2]+arr[row+1][col+1] + arr[row+2][col]+arr[row+2][col+1]+ arr[row+2][col+2]\n",
    "        if temp > count:\n",
    "            count = temp\n",
    "        col +=1\n",
    "        if col == 4:\n",
    "            col = 0\n",
    "            row +=1\n",
    "    return count"
   ]
  },
  {
   "cell_type": "markdown",
   "metadata": {},
   "source": [
    "#### 2. Left Rotation"
   ]
  },
  {
   "cell_type": "markdown",
   "metadata": {},
   "source": [
    "A left rotation operation on an array shifts each of the array's elements  unit to the left. For example, if  left rotations are performed on array , then the array would become .\n",
    "\n",
    "Given an array  of  integers and a number, , perform  left rotations on the array. Return the updated array to be printed as a single line of space-separated integers.\n",
    "\n",
    "**Function Description**\n",
    "\n",
    "Complete the function rotLeft in the editor below. It should return the resulting array of integers.\n",
    "\n",
    "**rotLeft has the following parameter(s):**\n",
    "\n",
    "An array of integers .\n",
    "An integer , the number of rotations."
   ]
  },
  {
   "cell_type": "code",
   "execution_count": null,
   "metadata": {},
   "outputs": [],
   "source": [
    "def rotLeft(a, k):\n",
    "    alist = list(a)\n",
    "    b = alist[k:]+alist[:k]\n",
    "    return b"
   ]
  },
  {
   "cell_type": "markdown",
   "metadata": {},
   "source": [
    "#### 3. New Year Chaos"
   ]
  },
  {
   "cell_type": "markdown",
   "metadata": {},
   "source": [
    "It's New Year's Day and everyone's in line for the Wonderland rollercoaster ride! There are a number of people queued up, and each person wears a sticker indicating their initial position in the queue. Initial positions increment by  from  at the front of the line to  at the back.\n",
    "\n",
    "Any person in the queue can bribe the person directly in front of them to swap positions. If two people swap positions, they still wear the same sticker denoting their original places in line. One person can bribe at most two others. For example, if  and  bribes , the queue will look like this: .\n",
    "\n",
    "Fascinated by this chaotic queue, you decide you must know the minimum number of bribes that took place to get the queue into its current state!\n",
    "\n",
    "**Function Description**\n",
    "\n",
    "Complete the function minimumBribes in the editor below. It must print an integer representing the minimum number of bribes necessary, or Too chaotic if the line configuration is not possible.\n",
    "\n",
    "**minimumBribes has the following parameter(s):**\n",
    "\n",
    "q: an array of integers"
   ]
  },
  {
   "cell_type": "code",
   "execution_count": null,
   "metadata": {},
   "outputs": [],
   "source": [
    "def minimumBribes(Q):\n",
    "    #\n",
    "    # initialize the number of moves\n",
    "    moves = 0 \n",
    "    #\n",
    "    # decrease Q by 1 to make index-matching more intuitive\n",
    "    # so that our values go from 0 to N-1, just like our\n",
    "    # indices.  (Not necessary but makes it easier to\n",
    "    # understand.)\n",
    "    Q = [P-1 for P in Q]\n",
    "    #\n",
    "    # Loop through each person (P) in the queue (Q)\n",
    "    for i,P in enumerate(Q):\n",
    "        # i is the current position of P, while P is the\n",
    "        # original position of P.\n",
    "        #\n",
    "        # First check if any P is more than two ahead of \n",
    "        # its original position\n",
    "        if P - i > 2:\n",
    "            print(\"Too chaotic\")\n",
    "            return\n",
    "        #\n",
    "        # From here on out, we don't care if P has moved\n",
    "        # forwards, it is better to count how many times\n",
    "        # P has RECEIVED a bribe, by looking at who is\n",
    "        # ahead of P.  P's original position is the value\n",
    "        # of P.\n",
    "        # Anyone who bribed P cannot get to higher than\n",
    "        # one position in front if P's original position,\n",
    "        # so we need to look from one position in front\n",
    "        # of P's original position to one in front of P's\n",
    "        # current position, and see how many of those \n",
    "        # positions in Q contain a number large than P.\n",
    "        # In other words we will look from P-1 to i-1,\n",
    "        # which in Python is range(P-1,i-1+1), or simply\n",
    "        # range(P-1,i).  To make sure we don't try an\n",
    "        # index less than zero, replace P-1 with\n",
    "        # max(P-1,0)\n",
    "        for j in range(max(P-1,0),i):\n",
    "            if Q[j] > P:\n",
    "                moves += 1\n",
    "    print(moves)"
   ]
  },
  {
   "cell_type": "markdown",
   "metadata": {},
   "source": [
    "#### 4. Minimum swaps 2"
   ]
  },
  {
   "cell_type": "markdown",
   "metadata": {},
   "source": [
    "You are given an unordered array consisting of consecutive integers  [1, 2, 3, ..., n] without any duplicates. You are allowed to swap any two elements. You need to find the minimum number of swaps required to sort the array in ascending order.\n",
    "\n",
    "For example, given the array  we perform the following steps:\n",
    "\n",
    "i   arr                         swap (indices)\n",
    "\n",
    "0   [7, 1, 3, 2, 4, 5, 6]   swap (0,3)\n",
    "\n",
    "1   [2, 1, 3, 7, 4, 5, 6]   swap (0,1)\n",
    "\n",
    "2   [1, 2, 3, 7, 4, 5, 6]   swap (3,4)\n",
    "\n",
    "3   [1, 2, 3, 4, 7, 5, 6]   swap (4,5)\n",
    "\n",
    "4   [1, 2, 3, 4, 5, 7, 6]   swap (5,6)\n",
    "\n",
    "5   [1, 2, 3, 4, 5, 6, 7]\n",
    "\n",
    "It took  swaps to sort the array.\n",
    "\n",
    "Function Description\n",
    "\n",
    "Complete the function minimumSwaps in the editor below. It must return an integer representing the minimum number of swaps to sort the array.\n",
    "\n",
    "minimumSwaps has the following parameter(s):\n",
    "\n",
    "arr: an unordered array of integers"
   ]
  },
  {
   "cell_type": "code",
   "execution_count": null,
   "metadata": {},
   "outputs": [],
   "source": []
  },
  {
   "cell_type": "code",
   "execution_count": null,
   "metadata": {},
   "outputs": [],
   "source": []
  },
  {
   "cell_type": "code",
   "execution_count": null,
   "metadata": {},
   "outputs": [],
   "source": []
  },
  {
   "cell_type": "code",
   "execution_count": null,
   "metadata": {},
   "outputs": [],
   "source": [
    "def sherlockAndAnagrams(s):\n",
    "    n = len(s) \n",
    "    mp = dict() \n",
    "      \n",
    "    # loop for length of substring \n",
    "    for i in range(n): \n",
    "        sb = '' \n",
    "        for j in range(i, n): \n",
    "            print(sb, \"and\", s[j])\n",
    "            sb = ''.join(sorted(sb + s[j])) \n",
    "            print(sb)\n",
    "            mp[sb] = mp.get(sb, 0) \n",
    "              \n",
    "            # increase count corresponding \n",
    "            # to this dict array \n",
    "            mp[sb] += 1\n",
    "    print(mp)\n",
    "    anas = 0\n",
    "      \n",
    "    # loop over all different dictionary  \n",
    "    # items and aggregate substring count \n",
    "    for k, v in mp.items(): \n",
    "        anas += (v*(v-1))//2\n",
    "    return anas"
   ]
  },
  {
   "cell_type": "code",
   "execution_count": null,
   "metadata": {},
   "outputs": [],
   "source": [
    "def is_geometric(arr, ratio):      \n",
    "        for i in range(1, len(arr)):\n",
    "            if arr[i]/float(arr[i-1]) != ratio: \n",
    "                return False\n",
    "        return True\n",
    "\n",
    "# Complete the countTriplets function below.\n",
    "def countTriplets(arr, r):\n",
    "    sub_arr = [comb for comb in combinations(arr, 3)]\n",
    "    c = 0\n",
    "    for sub in sub_arr:\n",
    "        if is_geometric(sub,r) == True:\n",
    "            c += 1\n",
    "        else:\n",
    "            pass\n",
    "    return c"
   ]
  },
  {
   "cell_type": "code",
   "execution_count": null,
   "metadata": {},
   "outputs": [],
   "source": [
    "countTriplets(arr,r)"
   ]
  },
  {
   "cell_type": "code",
   "execution_count": null,
   "metadata": {},
   "outputs": [],
   "source": [
    "arr = [1, 2, 2, 4, 5, 3, 1, 5, 6, 3, 9, 19, 18, 27, 32, 8, 1, 2]\n",
    "r = 3"
   ]
  },
  {
   "cell_type": "code",
   "execution_count": null,
   "metadata": {},
   "outputs": [],
   "source": [
    "from itertools import combinations\n",
    "sub_arr = [comb for comb in combinations(arr, 3)]"
   ]
  },
  {
   "cell_type": "code",
   "execution_count": null,
   "metadata": {},
   "outputs": [],
   "source": [
    "sub_arr"
   ]
  },
  {
   "cell_type": "code",
   "execution_count": null,
   "metadata": {},
   "outputs": [],
   "source": [
    "for sub in sub_arr:\n",
    "    print(is_geometric(sub,2))\n",
    "    "
   ]
  },
  {
   "cell_type": "code",
   "execution_count": null,
   "metadata": {},
   "outputs": [],
   "source": [
    "def countTriplets(arr, r):\n",
    "    if len(arr) <= 2:\n",
    "        return 0\n",
    "    map_arr = {}\n",
    "    map_doubles = {}\n",
    "    count = 0\n",
    "    # Traversing the array from rear, helps avoid division\n",
    "    for x in arr[::-1]:\n",
    "\n",
    "        r_x = r*x\n",
    "        r_r_x = r*r_x\n",
    "\n",
    "        # case: x is the first element (x, x*r, x*r*r)\n",
    "        count += map_doubles.get((r_x, r_r_x), 0)\n",
    "        print(map_doubles, r_x, r_r_x, map_doubles.get((r_x, r_r_x), 0))\n",
    "\n",
    "        # case: x is the second element (x/r, x, x*r)\n",
    "        map_doubles[(x,r_x)] = map_doubles.get((x,r_x), 0) + map_arr.get(r_x, 0)\n",
    "        print(map_doubles, x, r_x, map_doubles.get((r_x, r_r_x), 0))\n",
    "\n",
    "        # case: x is the third element (x/(r*r), x/r, x)\n",
    "        map_arr[x] = map_arr.get(x, 0) + 1\n",
    "\n",
    "    return count"
   ]
  },
  {
   "cell_type": "code",
   "execution_count": null,
   "metadata": {},
   "outputs": [],
   "source": [
    "countTriplets(arr,r)"
   ]
  },
  {
   "cell_type": "code",
   "execution_count": null,
   "metadata": {},
   "outputs": [],
   "source": [
    "queries = [[1, 5], [1, 6], [3, 2], [1, 10], [1, 10], [1, 6], [2, 5], [3, 2]]"
   ]
  },
  {
   "cell_type": "code",
   "execution_count": null,
   "metadata": {},
   "outputs": [],
   "source": [
    "from collections import Counter\n",
    "def freqQuery(queries):\n",
    "    array = []\n",
    "    for order in queries:\n",
    "        print(order)\n",
    "        if order[0] == 1:\n",
    "            array.append(order[1])\n",
    "            counter = Counter(array)\n",
    "        elif order[0] == 2:\n",
    "            try:\n",
    "                array.remove(order[1])\n",
    "                counter = Counter(array)\n",
    "            except:\n",
    "                pass\n",
    "        elif order[0] == 3:\n",
    "            for el in counter:\n",
    "                if counter[el] == order[1]:\n",
    "                    pres = True \n",
    "                    break\n",
    "                else:\n",
    "                    pres = None\n",
    "            if pres:\n",
    "                print(\"1\")\n",
    "            else:\n",
    "                print(\"0\")\n",
    "                \n",
    "        print(order,array,counter)"
   ]
  },
  {
   "cell_type": "code",
   "execution_count": null,
   "metadata": {},
   "outputs": [],
   "source": [
    "freqQuery(queries)"
   ]
  },
  {
   "cell_type": "code",
   "execution_count": null,
   "metadata": {},
   "outputs": [],
   "source": [
    "freq = Counter()\n",
    "\n",
    "cnt = Counter()\n",
    "\n",
    "arr = []\n",
    "\n",
    "for q in queries:\n",
    "    if q[0]==1:\n",
    "        cnt[freq[q[1]]]-=1\n",
    "        freq[q[1]]+=1\n",
    "        cnt[freq[q[1]]]+=1\n",
    "\n",
    "    elif q[0]==2:\n",
    "        if freq[q[1]]>0:\n",
    "            cnt[freq[q[1]]]-=1\n",
    "            freq[q[1]]-=1\n",
    "            cnt[freq[q[1]]]+=1\n",
    "\n",
    "    else:\n",
    "        if cnt[q[1]]>0:\n",
    "            arr.append(1)\n",
    "        else:\n",
    "            arr.append(0)\n",
    "\n",
    "return arr"
   ]
  },
  {
   "cell_type": "code",
   "execution_count": null,
   "metadata": {},
   "outputs": [],
   "source": [
    "arr = [[1, 1, 1, 0, 0, 0], [0, 1, 0, 0, 0, 0], [1, 1, 1, 0, 0, 0], [0, 0, 2, 4, 4, 0], [0, 0, 0, 2, 0, 0], [0, 0, 1, 2, 4, 0]]"
   ]
  },
  {
   "cell_type": "code",
   "execution_count": null,
   "metadata": {},
   "outputs": [],
   "source": [
    "import numpy as np\n",
    "arr = np.array(arr)"
   ]
  },
  {
   "cell_type": "code",
   "execution_count": null,
   "metadata": {},
   "outputs": [],
   "source": [
    "arr"
   ]
  },
  {
   "cell_type": "code",
   "execution_count": null,
   "metadata": {},
   "outputs": [],
   "source": [
    "Max = 0\n",
    "for i in range(0,4):\n",
    "    for j in range(0,4):\n",
    "        Sum = sum(arr[i][j:j+2+1]) + arr[i+1][j+1] + sum(arr[i+2][j:j+2+1])\n",
    "        if Sum > Max:\n",
    "            Max = Sum\n",
    "            \n",
    "return Max"
   ]
  },
  {
   "cell_type": "code",
   "execution_count": null,
   "metadata": {},
   "outputs": [],
   "source": []
  },
  {
   "cell_type": "code",
   "execution_count": null,
   "metadata": {},
   "outputs": [],
   "source": [
    "q = [2, 1, 5, 3, 4]"
   ]
  },
  {
   "cell_type": "code",
   "execution_count": null,
   "metadata": {},
   "outputs": [],
   "source": []
  },
  {
   "cell_type": "code",
   "execution_count": null,
   "metadata": {},
   "outputs": [],
   "source": [
    "def minimumBribes(q):\n",
    "    output = 0\n",
    "    previous = 0\n",
    "    for i in range(len(q)):\n",
    "        print(i, previous, q[i], abs((q[i] - 1) - i))\n",
    "        if (q[i] - 1) != i and previous == 0:\n",
    "            if (q[i] - 1) - i > 2:\n",
    "                output = \"Too chaotic\"\n",
    "                break\n",
    "            else:\n",
    "                previous = abs((q[i] - 1) - i)\n",
    "                output += abs((q[i] - 1) - i)\n",
    "                print(output)\n",
    "        else:\n",
    "            previous = 0\n",
    "        \n",
    "    return output"
   ]
  },
  {
   "cell_type": "code",
   "execution_count": null,
   "metadata": {},
   "outputs": [],
   "source": [
    "def minimumBribes(q):\n",
    "    bribes = 0\n",
    "    for i in range(len(q)-1,-1,-1):\n",
    "        print(i, q[i] - (i + 1))\n",
    "        if q[i] - (i + 1) > 2:\n",
    "            print('Too chaotic')\n",
    "            return\n",
    "        for j in range(max(0, q[i] - 2),i):\n",
    "            print(j)\n",
    "            if q[j] > q[i]:\n",
    "                bribes+=1\n",
    "    print(bribes)"
   ]
  },
  {
   "cell_type": "code",
   "execution_count": null,
   "metadata": {},
   "outputs": [],
   "source": [
    "minimumBribes(q)"
   ]
  },
  {
   "cell_type": "code",
   "execution_count": null,
   "metadata": {},
   "outputs": [],
   "source": [
    "def minimumSwaps(arr):\n",
    "    ref_arr = sorted(arr)\n",
    "    index_dict = {v: i for i,v in enumerate(arr)}\n",
    "    print(index_dict)\n",
    "    swaps = 0\n",
    "    \n",
    "    for i,v in enumerate(arr):\n",
    "        correct_value = ref_arr[i]\n",
    "        if v != correct_value:\n",
    "            to_swap_ix = index_dict[correct_value]\n",
    "            arr[to_swap_ix],arr[i] = arr[i], arr[to_swap_ix]\n",
    "            index_dict[v] = to_swap_ix\n",
    "            index_dict[correct_value] = i\n",
    "            swaps += 1\n",
    "            \n",
    "    return swaps"
   ]
  },
  {
   "cell_type": "code",
   "execution_count": null,
   "metadata": {},
   "outputs": [],
   "source": []
  },
  {
   "cell_type": "code",
   "execution_count": null,
   "metadata": {},
   "outputs": [],
   "source": [
    "minimumSwaps(q)"
   ]
  },
  {
   "cell_type": "code",
   "execution_count": null,
   "metadata": {},
   "outputs": [],
   "source": []
  },
  {
   "cell_type": "code",
   "execution_count": null,
   "metadata": {},
   "outputs": [],
   "source": [
    "ref_arr = sorted(q)\n",
    "ref_dict = {v: i for i,v in enumerate(ref_arr)}\n",
    "print(ref_arr,ref_dict)"
   ]
  },
  {
   "cell_type": "code",
   "execution_count": null,
   "metadata": {},
   "outputs": [],
   "source": [
    "ref_dict.get(4)"
   ]
  },
  {
   "cell_type": "code",
   "execution_count": null,
   "metadata": {},
   "outputs": [],
   "source": [
    "def minimumSwaps(arr):\n",
    "    ref_arr = sorted(arr)\n",
    "    ref_dict = {v: i for i,v in enumerate(ref_arr)}\n",
    "    c = 0\n",
    "    \n",
    "    while arr != ref_arr:\n",
    "        for i in range(len(arr)):\n",
    "            print(arr)\n",
    "            if arr[i] != i + 1:\n",
    "                index_to_swap = ref_dict.get(arr[i])\n",
    "                arr[index_to_swap], arr[i] = arr[i], arr[index_to_swap]\n",
    "                c += 1\n",
    "    print(c)\n",
    "            \n",
    "            \n",
    "            "
   ]
  },
  {
   "cell_type": "code",
   "execution_count": null,
   "metadata": {},
   "outputs": [],
   "source": [
    "minimumSwaps(q)"
   ]
  },
  {
   "cell_type": "code",
   "execution_count": null,
   "metadata": {},
   "outputs": [],
   "source": []
  },
  {
   "cell_type": "code",
   "execution_count": null,
   "metadata": {},
   "outputs": [],
   "source": [
    "liste = [0] * 5\n",
    "liste[3:5] = liste[3:5] + 1"
   ]
  },
  {
   "cell_type": "code",
   "execution_count": null,
   "metadata": {},
   "outputs": [],
   "source": [
    "def arrayManipulation(n, queries):\n",
    "    array = [0] * (n + 1)\n",
    "    \n",
    "    for query in queries: \n",
    "        a = query[0] - 1\n",
    "        b = query[1]\n",
    "        k = query[2]\n",
    "        array[a] += k\n",
    "        array[b] -= k\n",
    "        \n",
    "    print(array)    \n",
    "    max_value = 0\n",
    "    running_count = 0\n",
    "    for i in array:\n",
    "        running_count += i\n",
    "        print(running_count, max_value)\n",
    "        if running_count > max_value:\n",
    "            max_value = running_count\n",
    "            \n",
    "    return max_value"
   ]
  },
  {
   "cell_type": "code",
   "execution_count": null,
   "metadata": {},
   "outputs": [],
   "source": [
    "#inp = (\"hello\", \"my\", \"friend\")x\n",
    "#def apply_nth(fn, k, n, iterable):\n",
    "#    return (x + k if i==n else x for (i,x) in enumerate(iterable))\n",
    "n = 10 \n",
    "queries = [[2, 6, 8], [3, 5, 7], [1, 8, 1], [5, 9, 15]]"
   ]
  },
  {
   "cell_type": "code",
   "execution_count": null,
   "metadata": {},
   "outputs": [],
   "source": [
    "arrayManipulation(n,queries)"
   ]
  },
  {
   "cell_type": "code",
   "execution_count": null,
   "metadata": {},
   "outputs": [],
   "source": [
    "for (index, replacement) in zip(indexes, replacements):\n",
    "    to_modify[index] = replacement"
   ]
  },
  {
   "cell_type": "code",
   "execution_count": null,
   "metadata": {},
   "outputs": [],
   "source": [
    "import numpy as np"
   ]
  },
  {
   "cell_type": "code",
   "execution_count": null,
   "metadata": {},
   "outputs": [],
   "source": [
    "q = [2, 3, 4, 1, 5]\n",
    "q = np.array(q)"
   ]
  },
  {
   "cell_type": "code",
   "execution_count": null,
   "metadata": {},
   "outputs": [],
   "source": [
    "l = q[1:3] + 2"
   ]
  },
  {
   "cell_type": "code",
   "execution_count": null,
   "metadata": {},
   "outputs": [],
   "source": [
    "l"
   ]
  },
  {
   "cell_type": "code",
   "execution_count": null,
   "metadata": {},
   "outputs": [],
   "source": [
    "max(map(lambda x: x + 20 if l.index(x) == 2 else x, q))"
   ]
  },
  {
   "cell_type": "code",
   "execution_count": null,
   "metadata": {},
   "outputs": [],
   "source": []
  },
  {
   "cell_type": "code",
   "execution_count": null,
   "metadata": {},
   "outputs": [],
   "source": [
    "import bisect\n",
    "import statistics"
   ]
  },
  {
   "cell_type": "code",
   "execution_count": 8,
   "metadata": {},
   "outputs": [],
   "source": [
    "n = [2, 3, 4, 2, 3, 6, 8, 4, 5]\n",
    "d = 5"
   ]
  },
  {
   "cell_type": "code",
   "execution_count": 9,
   "metadata": {},
   "outputs": [],
   "source": [
    "def activityNotifications(expenditure, d):\n",
    "    c = 0\n",
    "    rolling = sorted(expenditure[0:d])\n",
    "    print(rolling)\n",
    "    for i in range(d,len(expenditure)):\n",
    "        if expenditure[i] >= statistics.median(rolling)*2:\n",
    "            c += 1\n",
    "        rolling = rolling[1:]\n",
    "        rolling = rolling.insert(bisect.bisect_right(rolling,expenditure[i]),expenditure[i])\n",
    "        print(rolling)\n",
    "        "
   ]
  },
  {
   "cell_type": "code",
   "execution_count": 10,
   "metadata": {},
   "outputs": [],
   "source": [
    "def activityNotifications(expenditure, d):\n",
    "    c = 0\n",
    "    for i in range(d,len(expenditure)):\n",
    "        rolling = expenditure[i-d:i]\n",
    "        if expenditure[i] >= statistics.median(rolling)*2:\n",
    "            c += 1\n",
    "            \n",
    "    return c\n",
    "        "
   ]
  },
  {
   "cell_type": "code",
   "execution_count": 11,
   "metadata": {},
   "outputs": [
    {
     "ename": "NameError",
     "evalue": "name 'statistics' is not defined",
     "output_type": "error",
     "traceback": [
      "\u001b[0;31m---------------------------------------------------------------------------\u001b[0m",
      "\u001b[0;31mNameError\u001b[0m                                 Traceback (most recent call last)",
      "\u001b[0;32m<ipython-input-11-416990657425>\u001b[0m in \u001b[0;36m<module>\u001b[0;34m\u001b[0m\n\u001b[1;32m      1\u001b[0m \u001b[0md\u001b[0m \u001b[0;34m=\u001b[0m \u001b[0;36m5\u001b[0m\u001b[0;34m\u001b[0m\u001b[0;34m\u001b[0m\u001b[0m\n\u001b[1;32m      2\u001b[0m \u001b[0mexpenditure\u001b[0m \u001b[0;34m=\u001b[0m \u001b[0;34m[\u001b[0m\u001b[0;36m2\u001b[0m\u001b[0;34m,\u001b[0m \u001b[0;36m3\u001b[0m\u001b[0;34m,\u001b[0m \u001b[0;36m4\u001b[0m\u001b[0;34m,\u001b[0m \u001b[0;36m2\u001b[0m\u001b[0;34m,\u001b[0m \u001b[0;36m3\u001b[0m\u001b[0;34m,\u001b[0m \u001b[0;36m6\u001b[0m\u001b[0;34m,\u001b[0m \u001b[0;36m8\u001b[0m\u001b[0;34m,\u001b[0m \u001b[0;36m4\u001b[0m\u001b[0;34m,\u001b[0m \u001b[0;36m5\u001b[0m\u001b[0;34m]\u001b[0m\u001b[0;34m\u001b[0m\u001b[0;34m\u001b[0m\u001b[0m\n\u001b[0;32m----> 3\u001b[0;31m \u001b[0mactivityNotifications\u001b[0m\u001b[0;34m(\u001b[0m\u001b[0mexpenditure\u001b[0m\u001b[0;34m,\u001b[0m\u001b[0md\u001b[0m\u001b[0;34m)\u001b[0m\u001b[0;34m\u001b[0m\u001b[0;34m\u001b[0m\u001b[0m\n\u001b[0m",
      "\u001b[0;32m<ipython-input-10-127b707cd832>\u001b[0m in \u001b[0;36mactivityNotifications\u001b[0;34m(expenditure, d)\u001b[0m\n\u001b[1;32m      3\u001b[0m     \u001b[0;32mfor\u001b[0m \u001b[0mi\u001b[0m \u001b[0;32min\u001b[0m \u001b[0mrange\u001b[0m\u001b[0;34m(\u001b[0m\u001b[0md\u001b[0m\u001b[0;34m,\u001b[0m\u001b[0mlen\u001b[0m\u001b[0;34m(\u001b[0m\u001b[0mexpenditure\u001b[0m\u001b[0;34m)\u001b[0m\u001b[0;34m)\u001b[0m\u001b[0;34m:\u001b[0m\u001b[0;34m\u001b[0m\u001b[0;34m\u001b[0m\u001b[0m\n\u001b[1;32m      4\u001b[0m         \u001b[0mrolling\u001b[0m \u001b[0;34m=\u001b[0m \u001b[0mexpenditure\u001b[0m\u001b[0;34m[\u001b[0m\u001b[0mi\u001b[0m\u001b[0;34m-\u001b[0m\u001b[0md\u001b[0m\u001b[0;34m:\u001b[0m\u001b[0mi\u001b[0m\u001b[0;34m]\u001b[0m\u001b[0;34m\u001b[0m\u001b[0;34m\u001b[0m\u001b[0m\n\u001b[0;32m----> 5\u001b[0;31m         \u001b[0;32mif\u001b[0m \u001b[0mexpenditure\u001b[0m\u001b[0;34m[\u001b[0m\u001b[0mi\u001b[0m\u001b[0;34m]\u001b[0m \u001b[0;34m>=\u001b[0m \u001b[0mstatistics\u001b[0m\u001b[0;34m.\u001b[0m\u001b[0mmedian\u001b[0m\u001b[0;34m(\u001b[0m\u001b[0mrolling\u001b[0m\u001b[0;34m)\u001b[0m\u001b[0;34m*\u001b[0m\u001b[0;36m2\u001b[0m\u001b[0;34m:\u001b[0m\u001b[0;34m\u001b[0m\u001b[0;34m\u001b[0m\u001b[0m\n\u001b[0m\u001b[1;32m      6\u001b[0m             \u001b[0mc\u001b[0m \u001b[0;34m+=\u001b[0m \u001b[0;36m1\u001b[0m\u001b[0;34m\u001b[0m\u001b[0;34m\u001b[0m\u001b[0m\n\u001b[1;32m      7\u001b[0m \u001b[0;34m\u001b[0m\u001b[0m\n",
      "\u001b[0;31mNameError\u001b[0m: name 'statistics' is not defined"
     ]
    }
   ],
   "source": [
    "d = 5\n",
    "expenditure = [2, 3, 4, 2, 3, 6, 8, 4, 5]\n",
    "activityNotifications(expenditure,d)"
   ]
  },
  {
   "cell_type": "code",
   "execution_count": null,
   "metadata": {},
   "outputs": [],
   "source": [
    "d = 5\n",
    "expenditure = [2, 3, 4, 2, 3, 6, 8, 4, 5]\n",
    "rolling = sorted(expenditure[0:d])\n",
    "for i in range(d , len(expenditure)):\n",
    "    print(expenditure[i])\n",
    "    rolling = rolling[1:]\n",
    "    rolling.insert(bisect.bisect(rolling,expenditure[i]),expenditure[i])\n",
    "    print(rolling)\n",
    "    "
   ]
  },
  {
   "cell_type": "code",
   "execution_count": null,
   "metadata": {},
   "outputs": [],
   "source": [
    "d = 5\n",
    "expenditure = [2, 3, 4, 2, 3, 6, 8, 4, 5]\n",
    "rolling = sorted(expenditure[0:d])\n",
    "print(rolling)"
   ]
  },
  {
   "cell_type": "code",
   "execution_count": null,
   "metadata": {},
   "outputs": [],
   "source": [
    "n = [2, 3, 4, 2, 3, 6, 8, 4, 5]\n",
    "n = sorted(n)\n",
    "#new = bisect.bisect_right(n,2)\n",
    "n.insert(bisect.bisect_right(n,2),2)\n",
    "print(n)"
   ]
  },
  {
   "cell_type": "code",
   "execution_count": null,
   "metadata": {},
   "outputs": [],
   "source": [
    "import math\n",
    "def median(l):\n",
    "    n = len(l)\n",
    "    if n % 2 != 0:\n",
    "        median = l[math.ceil(len(l)/2)]\n",
    "    else:\n",
    "        median = (l[len(l)/2] + l[(len(l)/2) + 1]) / 2"
   ]
  },
  {
   "cell_type": "code",
   "execution_count": null,
   "metadata": {},
   "outputs": [],
   "source": [
    "4 % 2"
   ]
  },
  {
   "cell_type": "code",
   "execution_count": null,
   "metadata": {},
   "outputs": [],
   "source": []
  },
  {
   "cell_type": "code",
   "execution_count": null,
   "metadata": {},
   "outputs": [],
   "source": [
    "from statistics import median\n",
    "import bisect\n",
    "\n",
    "\n",
    "def pop_then_insort(arr, x, y):\n",
    "    # Use bisect_left because item already exists in list, otherwise _right returns index+1\n",
    "    idx = bisect.bisect_left(arr, x)\n",
    "    # Remove existing item, pop should be faster than remove here\n",
    "    arr.pop(idx)\n",
    "    # Insort = insort_right, place item into sorted position  ---> much faster than sorting array yourself\n",
    "    bisect.insort_right(arr, y)\n",
    "    return arr\n",
    "\n",
    "def manual_median(a):\n",
    "    # Using built-in medians would sort the array themselves, that's too slow for us\n",
    "    num_items = len(a)\n",
    "    if num_items % 2 == 0:\n",
    "        m = (a[num_items//2] + a[(num_items//2)-1])/2\n",
    "    else:\n",
    "        # You don't need to do -1 but I left it as a lesson\n",
    "        m = a[(num_items-1)//2]\n",
    "    return m, a\n",
    "\n",
    "def activityNotifications(expenditure, d):\n",
    "    notifs = 0\n",
    "    arr = []\n",
    "\n",
    "    for i in range(d, len(expenditure)):\n",
    "        if not arr:\n",
    "            # Array from trailing to one before current, remember slice ends before i here\n",
    "            arr = expenditure[i-d:i]\n",
    "            # Must be initially sorted once\n",
    "            arr.sort()\n",
    "        # Track trailing and head values as these are the only ones changing per iteration technically\n",
    "        old_val = expenditure[i - d]\n",
    "        new_val = expenditure[i]\n",
    "        # We don't need to do the process if old_val == new_val but there was a bug with implementing an \"if !=\"\n",
    "        median_val, arr = manual_median(arr)\n",
    "        arr = pop_then_insort(arr, old_val, new_val)\n",
    "        if new_val >= 2 * median_val:\n",
    "            notifs += 1\n",
    "    return notifs"
   ]
  },
  {
   "cell_type": "code",
   "execution_count": null,
   "metadata": {},
   "outputs": [],
   "source": []
  },
  {
   "cell_type": "code",
   "execution_count": null,
   "metadata": {},
   "outputs": [],
   "source": []
  },
  {
   "cell_type": "code",
   "execution_count": null,
   "metadata": {},
   "outputs": [],
   "source": [
    "def minpos(l):\n",
    "    m = None\n",
    "    p = None\n",
    "    for v in range(0,len(l)):\n",
    "        if (m is None) and (l[v] is not None) :\n",
    "            m = l[v]\n",
    "            p = v\n",
    "            continue\n",
    "        if (l[v] is not None) and m > l[v] :\n",
    "            # if the execution flow gets here then m is not None and l[v] is not None\n",
    "            m = l[v]\n",
    "            p = v\n",
    "    return [m,p]\n",
    " \n",
    "def n_way_ms(l) :\n",
    "     \n",
    "    result = []\n",
    "    minvalues = []\n",
    "     \n",
    "     \n",
    "    for v in range(0,len(l)):\n",
    "        if len(l[v])>0 :\n",
    "            minvalues.append(l[v].pop(0))\n",
    "        else :\n",
    "            minvalues.append(None)\n",
    "             \n",
    "    mp = minpos(minvalues)\n",
    "    minfound = mp[0]\n",
    "     \n",
    "    while minfound is not None :\n",
    "        result.append(mp[0])\n",
    "        if len(l[mp[1]])>0 :\n",
    "            minvalues[mp[1]]=l[mp[1]].pop(0)\n",
    "        else :\n",
    "            minvalues[mp[1]] = None\n",
    " \n",
    "        mp = minpos(minvalues)\n",
    "         \n",
    "        minfound = mp[0]\n",
    "    return result"
   ]
  },
  {
   "cell_type": "code",
   "execution_count": null,
   "metadata": {},
   "outputs": [],
   "source": [
    "l1=[6,6,8,1]\n",
    "minpos(l1)"
   ]
  },
  {
   "cell_type": "code",
   "execution_count": null,
   "metadata": {},
   "outputs": [],
   "source": []
  },
  {
   "cell_type": "code",
   "execution_count": null,
   "metadata": {},
   "outputs": [],
   "source": [
    "def countInversions(arr):\n",
    "    n = len(arr)\n",
    "    c = 0\n",
    "    s_a = [0] * len(arr)\n",
    "    ref = sorted(arr)\n",
    "    for i in range(1,n):\n",
    "        if arr[i-1] > arr[i]:\n",
    "            c += 1\n",
    "            s_a[i-1] = arr[i]\n",
    "        else:\n",
    "            s_a[i-1] = arr[i-1]\n",
    "        if i == n:\n",
    "            s_a[i] = arr[i]\n",
    "        print(s_a,arr)\n",
    "            \n",
    "    return c"
   ]
  },
  {
   "cell_type": "code",
   "execution_count": null,
   "metadata": {},
   "outputs": [],
   "source": [
    "l = [2, 1, 3, 1, 2]"
   ]
  },
  {
   "cell_type": "code",
   "execution_count": null,
   "metadata": {},
   "outputs": [],
   "source": []
  },
  {
   "cell_type": "code",
   "execution_count": null,
   "metadata": {},
   "outputs": [],
   "source": [
    "def split(l):\n",
    "    n = len(l)\n",
    "    m = n // 2\n",
    "    return l[:m], l[m:]"
   ]
  },
  {
   "cell_type": "code",
   "execution_count": null,
   "metadata": {},
   "outputs": [],
   "source": [
    "def merge_sorted_lists(list_left, list_right):\n",
    "    \"\"\"\n",
    "    Merge two sorted lists\n",
    "    This is a linear operation\n",
    "    O(len(list_right) + len(list_right))\n",
    "    :param left_list: list\n",
    "    :param right_list: list\n",
    "    :return merged list\n",
    "    \"\"\"\n",
    "    c = 0\n",
    "    # Special case: one or both of lists are empty\n",
    "    if len(list_left) == 0:\n",
    "        return list_right\n",
    "    elif len(list_right) == 0:\n",
    "        return list_left\n",
    "    \n",
    "    # General case\n",
    "    index_left = index_right = 0\n",
    "    list_merged = []  # list to build and return\n",
    "    list_len_target = len(list_left) + len(list_right)\n",
    "    while len(list_merged) < list_len_target:\n",
    "        if list_left[index_left] <= list_right[index_right]:\n",
    "            # Value on the left list is smaller (or equal so it should be selected)\n",
    "            list_merged.append(list_left[index_left])\n",
    "            index_left += 1\n",
    "        else:\n",
    "            # Right value bigger\n",
    "            list_merged.append(list_right[index_right])\n",
    "            index_right += 1\n",
    "            c += 1\n",
    "            \n",
    "        # If we are at the end of one of the lists we can take a shortcut\n",
    "        if index_right == len(list_right):\n",
    "            # Reached the end of right\n",
    "            # Append the remainder of left and break\n",
    "            list_merged += list_left[index_left:]\n",
    "            break\n",
    "        elif index_left == len(list_left):\n",
    "            # Reached the end of left\n",
    "            # Append the remainder of right and break\n",
    "            list_merged += list_right[index_right:]\n",
    "            break\n",
    "        \n",
    "    return (list_merged, c)"
   ]
  },
  {
   "cell_type": "code",
   "execution_count": null,
   "metadata": {},
   "outputs": [],
   "source": [
    "def merge_sort(input_list):\n",
    "    if len(input_list) <= 1:\n",
    "        return input_list\n",
    "    else:\n",
    "        left, right = split(input_list)\n",
    "        s_l, s_r = merge_sort(left), merge_sort(right)\n",
    "        sorted_l, c = merge_sorted_lists(s_l,s_r)\n",
    "        # The following line is the most important piece in this whole thing\n",
    "    return c"
   ]
  },
  {
   "cell_type": "code",
   "execution_count": null,
   "metadata": {
    "scrolled": true
   },
   "outputs": [],
   "source": [
    "merge_sort(l)"
   ]
  },
  {
   "cell_type": "code",
   "execution_count": null,
   "metadata": {},
   "outputs": [],
   "source": []
  },
  {
   "cell_type": "code",
   "execution_count": null,
   "metadata": {},
   "outputs": [],
   "source": [
    "from collections import Counter"
   ]
  },
  {
   "cell_type": "code",
   "execution_count": null,
   "metadata": {},
   "outputs": [],
   "source": [
    "inp1 = 'cde'\n",
    "inp2 = 'abd'\n",
    "counter_a = Counter(inp1)\n",
    "counter_b = Counter(inp2)\n",
    "counter_a.subtract(counter_b)"
   ]
  },
  {
   "cell_type": "code",
   "execution_count": null,
   "metadata": {},
   "outputs": [],
   "source": [
    "counter_a"
   ]
  },
  {
   "cell_type": "code",
   "execution_count": null,
   "metadata": {},
   "outputs": [],
   "source": [
    "def makeAnagram(a, b):\n",
    "    c = 0\n",
    "    for el1 in a:\n",
    "        if el1 not in b:\n",
    "            b.replace(el1, \"\")\n",
    "            c += 1    \n",
    "    for el2 in b:\n",
    "        if el2 not in a:\n",
    "            a.replace(el2,\"\")\n",
    "            c += 1\n",
    "    return c"
   ]
  },
  {
   "cell_type": "code",
   "execution_count": null,
   "metadata": {},
   "outputs": [],
   "source": [
    "makeAnagram(inp1,inp2)"
   ]
  },
  {
   "cell_type": "code",
   "execution_count": null,
   "metadata": {},
   "outputs": [],
   "source": []
  },
  {
   "cell_type": "code",
   "execution_count": null,
   "metadata": {},
   "outputs": [],
   "source": [
    "def makeAnagram(a, b):\n",
    "    ct_a = Counter(a)\n",
    "    ct_b = Counter(b)\n",
    "    ct_a.subtract(ct_b)\n",
    "    return sum(abs(i) for i in ct_a.values())\n"
   ]
  },
  {
   "cell_type": "code",
   "execution_count": null,
   "metadata": {},
   "outputs": [],
   "source": []
  },
  {
   "cell_type": "code",
   "execution_count": null,
   "metadata": {},
   "outputs": [],
   "source": [
    "stats = 'aabbbccddeefghi'"
   ]
  },
  {
   "cell_type": "code",
   "execution_count": null,
   "metadata": {},
   "outputs": [],
   "source": [
    "cnt = Counter(stats)"
   ]
  },
  {
   "cell_type": "code",
   "execution_count": null,
   "metadata": {},
   "outputs": [],
   "source": [
    "cnt.get(max(cnt, key=cnt.get)) - cnt.get(min(cnt, key=cnt.get))"
   ]
  },
  {
   "cell_type": "code",
   "execution_count": null,
   "metadata": {},
   "outputs": [],
   "source": [
    "def isValid(s):\n",
    "    cnt = Counter(s)\n",
    "    if cnt.get(max(cnt, key=cnt.get)) - cnt.get(min(cnt, key=cnt.get)) > 1:\n",
    "        message = \"NO\"\n",
    "    else:\n",
    "        message = \"YES\"\n",
    "    min_cnt = cnt.get(min(cnt, key=cnt.get))\n",
    "    c = 0\n",
    "    if message == \"NO\":\n",
    "        return message\n",
    "    else:\n",
    "        if cnt.get(max(cnt, key=cnt.get)) - cnt.get(min(cnt, key=cnt.get)) == 0:\n",
    "            message = \"YES\"\n",
    "        else:\n",
    "            for i,v in enumerate(cnt):\n",
    "                print(cnt[v] - min_cnt,c)\n",
    "                if cnt[v] - min_cnt > 1:\n",
    "                    message = \"NO\"\n",
    "                    break\n",
    "                elif cnt[v] - min_cnt > 0 and c > 1:\n",
    "                    message = \"NO\"\n",
    "                    break\n",
    "                elif cnt[v] - min_cnt > 0:\n",
    "                    c += 1\n",
    "        return message\n"
   ]
  },
  {
   "cell_type": "code",
   "execution_count": null,
   "metadata": {},
   "outputs": [],
   "source": [
    "def isValid(s):\n",
    "    cnt = Counter(s)\n",
    "    freq = Counter(cnt.values())\n",
    "    cond = cnt.get(max(cnt, key=cnt.get)) - cnt.get(min(cnt, key=cnt.get))\n",
    "    if cond == 0:\n",
    "        message = \"YES\"\n",
    "        return message\n",
    "    elif cond > 1:\n",
    "        message = \"NO\"\n",
    "        return message\n",
    "    else:\n",
    "        message = \"YES\"\n",
    "        if 1 not in freq.values():\n",
    "            message = \"NO\"\n",
    "        return message\n"
   ]
  },
  {
   "cell_type": "code",
   "execution_count": null,
   "metadata": {},
   "outputs": [],
   "source": [
    "s = 'aabbcd'\n",
    "t = Counter(cnt.values())\n",
    "1 in t.values()\n"
   ]
  },
  {
   "cell_type": "code",
   "execution_count": null,
   "metadata": {},
   "outputs": [],
   "source": [
    "cnt.values()# - cnt.get(min(cnt, key=cnt.get))"
   ]
  },
  {
   "cell_type": "code",
   "execution_count": null,
   "metadata": {},
   "outputs": [],
   "source": []
  },
  {
   "cell_type": "code",
   "execution_count": null,
   "metadata": {},
   "outputs": [],
   "source": [
    "s1 = 'aabbcd'\n",
    "s2 = 'aabbccddeefghi'\n",
    "s3 = 'abcdefghhgfedecba'\n",
    "print(isValid(s1),isValid(s2),isValid(s3))"
   ]
  },
  {
   "cell_type": "code",
   "execution_count": null,
   "metadata": {},
   "outputs": [],
   "source": [
    "from collections import Counter"
   ]
  },
  {
   "cell_type": "code",
   "execution_count": null,
   "metadata": {},
   "outputs": [],
   "source": [
    "s = 'aaaada'\n",
    "n = len(s)\n",
    "[s[i: j] for i in range(n) for j in range(i + 1, n )]"
   ]
  },
  {
   "cell_type": "code",
   "execution_count": null,
   "metadata": {},
   "outputs": [],
   "source": [
    "#[s[i: j] if (Counter(s[i: j]) == 1 or s[i: j]==s[i: j][::-1]) for i in range(n) for j in range(i + 1, n + 1)]\n",
    "l = []\n",
    "for i in range(n):\n",
    "    for j in range(i+ 1 , n + 1):\n",
    "        if (Counter(s[i: j]) == 1 or s[i: j]==s[i: j][::-1]): \n",
    "            l.append(s[i: j])\n",
    "len(l)"
   ]
  },
  {
   "cell_type": "code",
   "execution_count": null,
   "metadata": {},
   "outputs": [],
   "source": [
    "def substrCount(n, s):\n",
    "\n",
    "    count = n\n",
    "\n",
    "    # tracks the last three sequences of unique characters\n",
    "    # seqx = length of the sequence\n",
    "    # seqx_c = character in that sequence\n",
    "    seq3, seq3_c = 0, \"\"\n",
    "    seq2, seq2_c = 0, \"\"\n",
    "    seq1, seq1_c = 1, s[0]\n",
    "\n",
    "    # note: because the slice starts at 1, i is one less than the index of char\n",
    "    for i, char in enumerate(s[1:]):\n",
    "        if char == s[i]:\n",
    "            count += seq1\n",
    "            seq1 += 1\n",
    "        else:\n",
    "            seq3, seq3_c = seq2, seq2_c\n",
    "            print(seq3, seq3_c)\n",
    "            seq2, seq2_c = seq1, seq1_c\n",
    "            print(seq2, seq2_c)\n",
    "            seq1, seq1_c = 1, char\n",
    "            print(seq1, seq1_c)\n",
    "\n",
    "        if seq2 == 1 and seq3 >= seq1 and seq3_c == seq1_c:\n",
    "            count += 1\n",
    "\n",
    "    return count"
   ]
  },
  {
   "cell_type": "code",
   "execution_count": null,
   "metadata": {},
   "outputs": [],
   "source": [
    "substrCount(n,s)"
   ]
  },
  {
   "cell_type": "code",
   "execution_count": null,
   "metadata": {},
   "outputs": [],
   "source": []
  },
  {
   "cell_type": "code",
   "execution_count": null,
   "metadata": {},
   "outputs": [],
   "source": []
  },
  {
   "cell_type": "code",
   "execution_count": 2,
   "metadata": {},
   "outputs": [],
   "source": [
    "def minimumAbsoluteDifference(arr):\n",
    "    pos_arr = sorted(map(abs, arr))\n",
    "    return pos_arr[0] - pos_arr[-1]"
   ]
  },
  {
   "cell_type": "code",
   "execution_count": 4,
   "metadata": {},
   "outputs": [
    {
     "data": {
      "text/plain": [
       "[3, 7, 0]"
      ]
     },
     "execution_count": 4,
     "metadata": {},
     "output_type": "execute_result"
    }
   ],
   "source": [
    "arr = [3, -7, 0]\n",
    "pos_arr = list(map(abs, arr))\n",
    "pos_arr"
   ]
  },
  {
   "cell_type": "code",
   "execution_count": 13,
   "metadata": {},
   "outputs": [
    {
     "data": {
      "text/plain": [
       "10"
      ]
     },
     "execution_count": 13,
     "metadata": {},
     "output_type": "execute_result"
    }
   ],
   "source": [
    "abs(arr[1] - arr[0])"
   ]
  },
  {
   "cell_type": "code",
   "execution_count": 20,
   "metadata": {},
   "outputs": [],
   "source": [
    "def minimumAbsoluteDifference(arr):\n",
    "    temp = 10000\n",
    "    for i in range(len(arr)):\n",
    "        for j in range(i + 1,len(arr)):\n",
    "            local_diff = abs(arr[i] - arr[j])\n",
    "            print(local_diff, temp)\n",
    "            if local_diff < temp:\n",
    "                temp = local_diff\n",
    "\n",
    "    return temp"
   ]
  },
  {
   "cell_type": "code",
   "execution_count": 21,
   "metadata": {},
   "outputs": [
    {
     "name": "stdout",
     "output_type": "stream",
     "text": [
      "10 10000\n",
      "3 10\n",
      "7 3\n"
     ]
    },
    {
     "data": {
      "text/plain": [
       "3"
      ]
     },
     "execution_count": 21,
     "metadata": {},
     "output_type": "execute_result"
    }
   ],
   "source": [
    "minimumAbsoluteDifference(arr)"
   ]
  }
 ],
 "metadata": {
  "kernelspec": {
   "display_name": "Python 3",
   "language": "python",
   "name": "python3"
  },
  "language_info": {
   "codemirror_mode": {
    "name": "ipython",
    "version": 3
   },
   "file_extension": ".py",
   "mimetype": "text/x-python",
   "name": "python",
   "nbconvert_exporter": "python",
   "pygments_lexer": "ipython3",
   "version": "3.6.8"
  }
 },
 "nbformat": 4,
 "nbformat_minor": 2
}
