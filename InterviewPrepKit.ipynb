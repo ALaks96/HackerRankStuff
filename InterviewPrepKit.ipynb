{
 "cells": [
  {
   "cell_type": "markdown",
   "metadata": {},
   "source": [
    "# HackerRank challenges"
   ]
  },
  {
   "cell_type": "code",
   "execution_count": 3,
   "metadata": {},
   "outputs": [],
   "source": [
    "import math\n",
    "import os\n",
    "import random\n",
    "import re\n",
    "import sys\n",
    "from collections import Counter"
   ]
  },
  {
   "cell_type": "markdown",
   "metadata": {},
   "source": [
    "## Warmup challenges"
   ]
  },
  {
   "cell_type": "markdown",
   "metadata": {},
   "source": [
    "#### 1. Sock Merchant (easy)"
   ]
  },
  {
   "cell_type": "markdown",
   "metadata": {},
   "source": [
    "John works at a clothing store. He has a large pile of socks that he must pair by color for sale. Given an array of integers representing the color of each sock, determine how many pairs of socks with matching colors there are.\n",
    "\n",
    "For example, there are  socks with colors . There is one pair of color  and one of color . There are three odd socks left, one of each color. The number of pairs is .\n",
    "\n",
    "**Function Description**\n",
    "\n",
    "Complete the sockMerchant function in the editor below. It must return an integer representing the number of matching pairs of socks that are available.\n",
    "\n",
    "**sockMerchant has the following parameter(s):**\n",
    "\n",
    "n: the number of socks in the pile\n",
    "\n",
    "ar: the colors of each sock"
   ]
  },
  {
   "cell_type": "code",
   "execution_count": 4,
   "metadata": {},
   "outputs": [],
   "source": [
    "def sockMerchant(n, ar):\n",
    "    socks, pairs = Counter(map(int,ar)), 0\n",
    "    for sock in socks: \n",
    "        pairs += socks[sock]//2\n",
    "    \n",
    "    print(pairs)"
   ]
  },
  {
   "cell_type": "markdown",
   "metadata": {},
   "source": [
    "#### 2. Counting Valleys"
   ]
  },
  {
   "cell_type": "markdown",
   "metadata": {},
   "source": [
    "Gary is an avid hiker. He tracks his hikes meticulously, paying close attention to small details like topography. During his last hike he took exactly  steps. For every step he took, he noted if it was an uphill, , or a downhill,  step. Gary's hikes start and end at sea level and each step up or down represents a  unit change in altitude. We define the following terms:\n",
    "\n",
    "A mountain is a sequence of consecutive steps above sea level, starting with a step up from sea level and ending with a step down to sea level.\n",
    "A valley is a sequence of consecutive steps below sea level, starting with a step down from sea level and ending with a step up to sea level.\n",
    "Given Gary's sequence of up and down steps during his last hike, find and print the number of valleys he walked through.\n",
    "\n",
    "For example, if Gary's path is , he first enters a valley  units deep. Then he climbs out an up onto a mountain  units high. Finally, he returns to sea level and ends his hike.\n",
    "\n",
    "**Function Description**\n",
    "\n",
    "Complete the countingValleys function in the editor below. It must return an integer that denotes the number of valleys Gary traversed.\n",
    "\n",
    "**countingValleys has the following parameter(s):**\n",
    "\n",
    "n: the number of steps Gary takes \n",
    "\n",
    "s: a string describing his path"
   ]
  },
  {
   "cell_type": "code",
   "execution_count": 5,
   "metadata": {},
   "outputs": [],
   "source": [
    "def countingValleys(n, s):\n",
    "    level = valleys = 0\n",
    "    for step in s:\n",
    "        level += 1 if step == \"U\" else -1\n",
    "        valleys += level == 0 and step == \"U\"\n",
    "    return valleys"
   ]
  },
  {
   "cell_type": "markdown",
   "metadata": {},
   "source": [
    "#### 3. Jumping on the clouds"
   ]
  },
  {
   "cell_type": "markdown",
   "metadata": {},
   "source": [
    "Emma is playing a new mobile game that starts with consecutively numbered clouds. Some of the clouds are thunderheads and others are cumulus. She can jump on any cumulus cloud having a number that is equal to the number of the current cloud plus  or . She must avoid the thunderheads. Determine the minimum number of jumps it will take Emma to jump from her starting postion to the last cloud. It is always possible to win the game.\n",
    "\n",
    "For each game, Emma will get an array of clouds numbered  if they are safe or  if they must be avoided. For example,  indexed from . The number on each cloud is its index in the list so she must avoid the clouds at indexes  and . She could follow the following two paths:  or . The first path takes  jumps while the second takes .\n",
    "\n",
    "**Function Description**\n",
    "\n",
    "Complete the jumpingOnClouds function in the editor below. It should return the minimum number of jumps required, as an integer.\n",
    "\n",
    "**jumpingOnClouds has the following parameter(s):**\n",
    "\n",
    "c: an array of binary integers"
   ]
  },
  {
   "cell_type": "code",
   "execution_count": 6,
   "metadata": {},
   "outputs": [],
   "source": [
    "def jumpingOnClouds(c):\n",
    "    i = count_jumps = 0\n",
    "    length = len(c)\n",
    "\n",
    "    while i < length - 1:\n",
    "        if i < length - 2 and c[i + 2] == 0:\n",
    "            i += 2\n",
    "        else:\n",
    "            i += 1\n",
    "        count_jumps += 1\n",
    "\n",
    "    return count_jumps"
   ]
  },
  {
   "cell_type": "markdown",
   "metadata": {},
   "source": [
    "#### 4. Repeated strings"
   ]
  },
  {
   "cell_type": "markdown",
   "metadata": {},
   "source": [
    "Lilah has a string, , of lowercase English letters that she repeated infinitely many times.\n",
    "\n",
    "Given an integer, , find and print the number of letter a's in the first  letters of Lilah's infinite string.\n",
    "\n",
    "For example, if the string  and , the substring we consider is , the first  characters of her infinite string. There are  occurrences of a in the substring.\n",
    "\n",
    "**Function Description**\n",
    "\n",
    "Complete the repeatedString function in the editor below. It should return an integer representing the number of occurrences of a in the prefix of length  in the infinitely repeating string.\n",
    "\n",
    "**repeatedString has the following parameter(s):**\n",
    "\n",
    "s: a string to repeat\n",
    "\n",
    "n: the number of characters to consider"
   ]
  },
  {
   "cell_type": "code",
   "execution_count": 7,
   "metadata": {},
   "outputs": [
    {
     "ename": "SyntaxError",
     "evalue": "unexpected EOF while parsing (<ipython-input-7-6229b13c6a91>, line 2)",
     "output_type": "error",
     "traceback": [
      "\u001b[0;36m  File \u001b[0;32m\"<ipython-input-7-6229b13c6a91>\"\u001b[0;36m, line \u001b[0;32m2\u001b[0m\n\u001b[0;31m    print(s.count(\"a\") * (n // len(s)) + s[:n % len(s)].count(\"a\")\u001b[0m\n\u001b[0m                                                                  ^\u001b[0m\n\u001b[0;31mSyntaxError\u001b[0m\u001b[0;31m:\u001b[0m unexpected EOF while parsing\n"
     ]
    }
   ],
   "source": [
    "def repeatedString(s, n):\n",
    "    print(s.count(\"a\") * (n // len(s)) + s[:n % len(s)].count(\"a\")"
   ]
  },
  {
   "cell_type": "markdown",
   "metadata": {},
   "source": [
    "## Arrays"
   ]
  },
  {
   "cell_type": "markdown",
   "metadata": {},
   "source": [
    "#### 1. 2D array - DS"
   ]
  },
  {
   "cell_type": "markdown",
   "metadata": {},
   "source": [
    "Given a  2D Array, :\n",
    "\n",
    "1 1 1 0 0 0\n",
    "\n",
    "0 1 0 0 0 0\n",
    "\n",
    "1 1 1 0 0 0\n",
    "\n",
    "0 0 0 0 0 0\n",
    "\n",
    "0 0 0 0 0 0\n",
    "\n",
    "0 0 0 0 0 0\n",
    "\n",
    "We define an hourglass in  to be a subset of values with indices falling in this pattern in 's graphical representation:\n",
    "\n",
    "a b c\n",
    "\n",
    "  d\n",
    "  \n",
    "e f g\n",
    "\n",
    "There are  hourglasses in , and an hourglass sum is the sum of an hourglass' values. Calculate the hourglass sum for every hourglass in , then print the maximum hourglass sum.\n",
    "\n",
    "For example, given the 2D array:\n",
    "\n",
    "-9 -9 -9  1 1 1 \n",
    "\n",
    " 0 -9  0  4 3 2\n",
    " \n",
    "-9 -9 -9  1 2 3\n",
    "\n",
    " 0  0  8  6 6 0\n",
    " \n",
    " 0  0  0 -2 0 0\n",
    " \n",
    " 0  0  1  2 4 0\n",
    " \n",
    "We calculate the following  hourglass values:\n",
    "\n",
    "-63, -34, -9, 12, \n",
    "-10, 0, 28, 23, \n",
    "-27, -11, -2, 10, \n",
    "9, 17, 25, 18\n",
    "\n",
    "Our highest hourglass value is  from the hourglass:\n",
    "\n",
    "0 4 3\n",
    "\n",
    "  1\n",
    "  \n",
    "8 6 6\n",
    "\n",
    "**Function Description**\n",
    "\n",
    "Complete the function hourglassSum in the editor below. It should return an integer, the maximum hourglass sum in the array.\n",
    "\n",
    "**hourglassSum has the following parameter(s):**\n",
    "\n",
    "arr: an array of integers"
   ]
  },
  {
   "cell_type": "code",
   "execution_count": null,
   "metadata": {},
   "outputs": [],
   "source": [
    "def hourglassSum(arr):\n",
    "    count = -64\n",
    "    row = 0\n",
    "    col = 0\n",
    "    while row < 4 :\n",
    "        temp = arr[row][col] + arr[row][col+1]+arr[row][col+2]+arr[row+1][col+1] + arr[row+2][col]+arr[row+2][col+1]+ arr[row+2][col+2]\n",
    "        if temp > count:\n",
    "            count = temp\n",
    "        col +=1\n",
    "        if col == 4:\n",
    "            col = 0\n",
    "            row +=1\n",
    "    return count"
   ]
  },
  {
   "cell_type": "markdown",
   "metadata": {},
   "source": [
    "#### 2. Left Rotation"
   ]
  },
  {
   "cell_type": "markdown",
   "metadata": {},
   "source": [
    "A left rotation operation on an array shifts each of the array's elements  unit to the left. For example, if  left rotations are performed on array , then the array would become .\n",
    "\n",
    "Given an array  of  integers and a number, , perform  left rotations on the array. Return the updated array to be printed as a single line of space-separated integers.\n",
    "\n",
    "**Function Description**\n",
    "\n",
    "Complete the function rotLeft in the editor below. It should return the resulting array of integers.\n",
    "\n",
    "**rotLeft has the following parameter(s):**\n",
    "\n",
    "An array of integers .\n",
    "An integer , the number of rotations."
   ]
  },
  {
   "cell_type": "code",
   "execution_count": null,
   "metadata": {},
   "outputs": [],
   "source": [
    "def rotLeft(a, k):\n",
    "    alist = list(a)\n",
    "    b = alist[k:]+alist[:k]\n",
    "    return b"
   ]
  },
  {
   "cell_type": "markdown",
   "metadata": {},
   "source": [
    "#### 3. New Year Chaos"
   ]
  },
  {
   "cell_type": "markdown",
   "metadata": {},
   "source": [
    "It's New Year's Day and everyone's in line for the Wonderland rollercoaster ride! There are a number of people queued up, and each person wears a sticker indicating their initial position in the queue. Initial positions increment by  from  at the front of the line to  at the back.\n",
    "\n",
    "Any person in the queue can bribe the person directly in front of them to swap positions. If two people swap positions, they still wear the same sticker denoting their original places in line. One person can bribe at most two others. For example, if  and  bribes , the queue will look like this: .\n",
    "\n",
    "Fascinated by this chaotic queue, you decide you must know the minimum number of bribes that took place to get the queue into its current state!\n",
    "\n",
    "**Function Description**\n",
    "\n",
    "Complete the function minimumBribes in the editor below. It must print an integer representing the minimum number of bribes necessary, or Too chaotic if the line configuration is not possible.\n",
    "\n",
    "**minimumBribes has the following parameter(s):**\n",
    "\n",
    "q: an array of integers"
   ]
  },
  {
   "cell_type": "code",
   "execution_count": null,
   "metadata": {},
   "outputs": [],
   "source": [
    "def minimumBribes(Q):\n",
    "    #\n",
    "    # initialize the number of moves\n",
    "    moves = 0 \n",
    "    #\n",
    "    # decrease Q by 1 to make index-matching more intuitive\n",
    "    # so that our values go from 0 to N-1, just like our\n",
    "    # indices.  (Not necessary but makes it easier to\n",
    "    # understand.)\n",
    "    Q = [P-1 for P in Q]\n",
    "    #\n",
    "    # Loop through each person (P) in the queue (Q)\n",
    "    for i,P in enumerate(Q):\n",
    "        # i is the current position of P, while P is the\n",
    "        # original position of P.\n",
    "        #\n",
    "        # First check if any P is more than two ahead of \n",
    "        # its original position\n",
    "        if P - i > 2:\n",
    "            print(\"Too chaotic\")\n",
    "            return\n",
    "        #\n",
    "        # From here on out, we don't care if P has moved\n",
    "        # forwards, it is better to count how many times\n",
    "        # P has RECEIVED a bribe, by looking at who is\n",
    "        # ahead of P.  P's original position is the value\n",
    "        # of P.\n",
    "        # Anyone who bribed P cannot get to higher than\n",
    "        # one position in front if P's original position,\n",
    "        # so we need to look from one position in front\n",
    "        # of P's original position to one in front of P's\n",
    "        # current position, and see how many of those \n",
    "        # positions in Q contain a number large than P.\n",
    "        # In other words we will look from P-1 to i-1,\n",
    "        # which in Python is range(P-1,i-1+1), or simply\n",
    "        # range(P-1,i).  To make sure we don't try an\n",
    "        # index less than zero, replace P-1 with\n",
    "        # max(P-1,0)\n",
    "        for j in range(max(P-1,0),i):\n",
    "            if Q[j] > P:\n",
    "                moves += 1\n",
    "    print(moves)"
   ]
  },
  {
   "cell_type": "markdown",
   "metadata": {},
   "source": [
    "#### 4. Minimum swaps 2"
   ]
  },
  {
   "cell_type": "markdown",
   "metadata": {},
   "source": [
    "You are given an unordered array consisting of consecutive integers  [1, 2, 3, ..., n] without any duplicates. You are allowed to swap any two elements. You need to find the minimum number of swaps required to sort the array in ascending order.\n",
    "\n",
    "For example, given the array  we perform the following steps:\n",
    "\n",
    "i   arr                         swap (indices)\n",
    "\n",
    "0   [7, 1, 3, 2, 4, 5, 6]   swap (0,3)\n",
    "\n",
    "1   [2, 1, 3, 7, 4, 5, 6]   swap (0,1)\n",
    "\n",
    "2   [1, 2, 3, 7, 4, 5, 6]   swap (3,4)\n",
    "\n",
    "3   [1, 2, 3, 4, 7, 5, 6]   swap (4,5)\n",
    "\n",
    "4   [1, 2, 3, 4, 5, 7, 6]   swap (5,6)\n",
    "\n",
    "5   [1, 2, 3, 4, 5, 6, 7]\n",
    "\n",
    "It took  swaps to sort the array.\n",
    "\n",
    "Function Description\n",
    "\n",
    "Complete the function minimumSwaps in the editor below. It must return an integer representing the minimum number of swaps to sort the array.\n",
    "\n",
    "minimumSwaps has the following parameter(s):\n",
    "\n",
    "arr: an unordered array of integers"
   ]
  },
  {
   "cell_type": "code",
   "execution_count": null,
   "metadata": {},
   "outputs": [],
   "source": []
  },
  {
   "cell_type": "code",
   "execution_count": null,
   "metadata": {},
   "outputs": [],
   "source": []
  }
 ],
 "metadata": {
  "kernelspec": {
   "display_name": "Python 3",
   "language": "python",
   "name": "python3"
  },
  "language_info": {
   "codemirror_mode": {
    "name": "ipython",
    "version": 3
   },
   "file_extension": ".py",
   "mimetype": "text/x-python",
   "name": "python",
   "nbconvert_exporter": "python",
   "pygments_lexer": "ipython3",
   "version": "3.6.8"
  }
 },
 "nbformat": 4,
 "nbformat_minor": 2
}
